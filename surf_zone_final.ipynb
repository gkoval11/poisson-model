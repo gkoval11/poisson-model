{
 "cells": [
  {
   "cell_type": "markdown",
   "metadata": {},
   "source": [
    "## Analysis of Species Assemblage in the Central California Surf Zone"
   ]
  },
  {
   "cell_type": "markdown",
   "metadata": {},
   "source": [
    "### Import Packages"
   ]
  },
  {
   "cell_type": "code",
   "execution_count": 1,
   "metadata": {},
   "outputs": [],
   "source": [
    "import pandas as pd\n",
    "import numpy as np\n",
    "import matplotlib.pyplot as plt\n",
    "import seaborn as sns\n",
    "import statsmodels.api as sm\n",
    "import statsmodels.formula.api as smf\n",
    "from patsy import dmatrices\n",
    "\n",
    "import surfzone"
   ]
  },
  {
   "cell_type": "markdown",
   "metadata": {},
   "source": [
    "### Introduction\n",
    "\n",
    "The surf zone, the area extending from the first breaking waves to the shore, is characterized by high turbulence and often tumultuous conditions (McLachlan and Brown 2006; Olds et al. 2018). Yet, the surf zone is an important ecosystem for fish and invertebrate species (Layman 2000). It can serve as a nursery habitat by harboring fish species who spend their developmental juvenile stage in the shallow, protected waters (Ross and Lancaster 2002). By concentrating juvenile fish and many invertebrates, the surf zone also attracts mobile fish predators searching for prey (Layman 2000; Nakane et al. 2009) and shorebirds, which use beaches and the swash zone as important foraging grounds (Dugan et al. 2003). In addition to the critical ecosystem function provided, sandy beaches are among the most intensely used coastal habitats that provide cultural, recreational, and economic resources for humans (Dugan et al. 2010). One popular example of recreational use includes shoreline angling. Past studies have shown that direct harvest from sandy beaches can have detectable and negative impacts on the ecosystem (Bennett and Attwood 1991). Many resident species of the surf zone require adaptations to handle the turbid environment (Layman 2000), which minimizes functional redundancy within the ecosystem (Henderson et al. 2019). As such, once a species has been overharvested by an activity like fishing, there are limited competitors to fill that ecosystem role.\n",
    "\n",
    "\n",
    "Oceanographic conditions heavily influence the Central Coast of California. These seasonal oceanographic changes cause drastic changes throughout the year. Summer has the calmest conditions, and the water temperature slowly rises (Ramp et al. 2011). Winter brings storms and high wave action, which uproot the kelp and transport this necessary subsidy into the surf zone as drift algae (Andrews 1945; Krumhansl and Scheibling 2012). Spring is accompanied by a high degree of upwelling and strong winds, bringing an excess of nutrients to the surface, which fertilize and stimulate primary producers (Thompson et al. 2012). Central California poses a unique environment exhibiting strong seasonal patterns driven by oceanographic processes. The combination of these factors set it up as an excellent system to investigate seasonality in the surf zone. Several studies have described seasonal changes in diversity and species composition in surf zones around the world (Ross et al. 1987; Layman 2000; Nanami and Endo 2007; Marin Jarrin et al. 2016); however, a recent review indicated that of the 152 studies investigating surf zone fishes, only four were conducted along the West Coast of the United States and none of those focused on the seasonal variability within the community (Olds et al. 2018). Because surf zones are such a challenging and dynamic system to study, little is known about how fish and invertebrate assemblages change throughout the seasonal cycle or how they are affected by environmental conditions."
   ]
  },
  {
   "cell_type": "markdown",
   "metadata": {},
   "source": [
    "### Question addressed in this notebook\n",
    "\n",
    "*Are there specific environmental factors associated with spatial and temporal differences in surf zone assemblages?*\n",
    "\n",
    "**Hypothesis:** Environmental factors will change seasonally and will be associated with spatial and temporal shifts in the species assemblage.  \n",
    "\n",
    "*Rationale:* Seasonal changes in temperature, average wave height, current tide height, and depth will likely explain seasonal changes in surf zone assemblages. Other factors, such as wind speed, wave period, and visibility will likely have a less strong relationship with assemblage."
   ]
  },
  {
   "cell_type": "markdown",
   "metadata": {},
   "source": [
    "### Methods\n",
    "\n",
    "Data was collected from eight sites around Monterey Bay once a month in July, August, and September of 2019 and 2020. The surf zone was sampled using purpose-built baited remote underwater video stations (BRUVS) which were deployed beyond the first line of breakers and left to record for one hour before being retrieved (Vargas‐Fonseca et al. 2016). During each sampling, six BRUVS were deployed to a depth of 2 deep and spaced 50 m apart from each other along the beach. Surf zone fish assemblages have been shown to change with time of day and tidal height (Beyst et al. 2002). To mitigate these differences, sampling will occur within a two-hour window straddling the daily low tide. In addition to the BRUVS, environmental data was collected for the sampling day. Depth, visibility, substate, and microhabitat were estimated by the person deploying the BRUVS; tide height data was retrieved from NOAA tide tables for Monterey; wind average was recorded with a hand-held anemometer; water temperature was recorded with a handheld thermometer; and, beaker height and period were estimated by a person standing at the low swash point on the beach. \n",
    "\n",
    "The video was analyzed in the EventMeasure program where the video is watched though fully and each species observed is recorded to the lowest taxonomic order. One of the outputs of this program is the MaxN metric, the maximum number of individuals of the same species seen in one frame of the video (Murphy and Jenkins 2010). This is a common metric used within BURVS as it prevents double counting individuals that may have dopped out of frame and returned. In addition to the MaxN metric, each hour long video was broken into 12 5-minute periods and the MaxN was calculated for each period. This allowed the average to be calculated for each species in each video and is a more accurate metric for abundance. "
   ]
  },
  {
   "cell_type": "markdown",
   "metadata": {},
   "source": [
    "### Import formatted data\n",
    "\n",
    "Data was cleaned and formatted in the notebook surf_zone-data_formatting notebook which details the methods used to clean and create the dataset used for the rest of the analysis. "
   ]
  },
  {
   "cell_type": "code",
   "execution_count": 2,
   "metadata": {},
   "outputs": [
    {
     "data": {
      "text/html": [
       "<div>\n",
       "<style scoped>\n",
       "    .dataframe tbody tr th:only-of-type {\n",
       "        vertical-align: middle;\n",
       "    }\n",
       "\n",
       "    .dataframe tbody tr th {\n",
       "        vertical-align: top;\n",
       "    }\n",
       "\n",
       "    .dataframe thead th {\n",
       "        text-align: right;\n",
       "    }\n",
       "</style>\n",
       "<table border=\"1\" class=\"dataframe\">\n",
       "  <thead>\n",
       "    <tr style=\"text-align: right;\">\n",
       "      <th></th>\n",
       "      <th>Date</th>\n",
       "      <th>Site</th>\n",
       "      <th>BRUV</th>\n",
       "      <th>Sci_Name</th>\n",
       "      <th>MaxN</th>\n",
       "      <th>MPA_Status</th>\n",
       "      <th>Tide_height_ft</th>\n",
       "      <th>Wind_Average_mph</th>\n",
       "      <th>Depth_ft</th>\n",
       "      <th>Visibility_ft</th>\n",
       "      <th>Temp_C</th>\n",
       "      <th>Substrate</th>\n",
       "      <th>Breaker_Height_m</th>\n",
       "      <th>Breaker_Period_s</th>\n",
       "      <th>Microhabitat</th>\n",
       "    </tr>\n",
       "  </thead>\n",
       "  <tbody>\n",
       "    <tr>\n",
       "      <th>0</th>\n",
       "      <td>2019-07-09</td>\n",
       "      <td>Stillwater Cove</td>\n",
       "      <td>1</td>\n",
       "      <td>C. stigmaeus</td>\n",
       "      <td>0.333333</td>\n",
       "      <td>Ref</td>\n",
       "      <td>2.5</td>\n",
       "      <td>NaN</td>\n",
       "      <td>7.0</td>\n",
       "      <td>2.0</td>\n",
       "      <td>14.0</td>\n",
       "      <td>sand</td>\n",
       "      <td>NaN</td>\n",
       "      <td>NaN</td>\n",
       "      <td>flat</td>\n",
       "    </tr>\n",
       "    <tr>\n",
       "      <th>1</th>\n",
       "      <td>2019-07-09</td>\n",
       "      <td>Stillwater Cove</td>\n",
       "      <td>1</td>\n",
       "      <td>H. caryi</td>\n",
       "      <td>0.166667</td>\n",
       "      <td>Ref</td>\n",
       "      <td>2.5</td>\n",
       "      <td>NaN</td>\n",
       "      <td>7.0</td>\n",
       "      <td>2.0</td>\n",
       "      <td>14.0</td>\n",
       "      <td>sand</td>\n",
       "      <td>NaN</td>\n",
       "      <td>NaN</td>\n",
       "      <td>flat</td>\n",
       "    </tr>\n",
       "    <tr>\n",
       "      <th>2</th>\n",
       "      <td>2019-07-09</td>\n",
       "      <td>Stillwater Cove</td>\n",
       "      <td>1</td>\n",
       "      <td>E. jacksoni</td>\n",
       "      <td>0.000000</td>\n",
       "      <td>Ref</td>\n",
       "      <td>2.5</td>\n",
       "      <td>NaN</td>\n",
       "      <td>7.0</td>\n",
       "      <td>2.0</td>\n",
       "      <td>14.0</td>\n",
       "      <td>sand</td>\n",
       "      <td>NaN</td>\n",
       "      <td>NaN</td>\n",
       "      <td>flat</td>\n",
       "    </tr>\n",
       "    <tr>\n",
       "      <th>3</th>\n",
       "      <td>2019-07-09</td>\n",
       "      <td>Stillwater Cove</td>\n",
       "      <td>1</td>\n",
       "      <td>A. affinis</td>\n",
       "      <td>0.000000</td>\n",
       "      <td>Ref</td>\n",
       "      <td>2.5</td>\n",
       "      <td>NaN</td>\n",
       "      <td>7.0</td>\n",
       "      <td>2.0</td>\n",
       "      <td>14.0</td>\n",
       "      <td>sand</td>\n",
       "      <td>NaN</td>\n",
       "      <td>NaN</td>\n",
       "      <td>flat</td>\n",
       "    </tr>\n",
       "    <tr>\n",
       "      <th>4</th>\n",
       "      <td>2019-07-09</td>\n",
       "      <td>Stillwater Cove</td>\n",
       "      <td>1</td>\n",
       "      <td>C. biplicata</td>\n",
       "      <td>0.000000</td>\n",
       "      <td>Ref</td>\n",
       "      <td>2.5</td>\n",
       "      <td>NaN</td>\n",
       "      <td>7.0</td>\n",
       "      <td>2.0</td>\n",
       "      <td>14.0</td>\n",
       "      <td>sand</td>\n",
       "      <td>NaN</td>\n",
       "      <td>NaN</td>\n",
       "      <td>flat</td>\n",
       "    </tr>\n",
       "    <tr>\n",
       "      <th>...</th>\n",
       "      <td>...</td>\n",
       "      <td>...</td>\n",
       "      <td>...</td>\n",
       "      <td>...</td>\n",
       "      <td>...</td>\n",
       "      <td>...</td>\n",
       "      <td>...</td>\n",
       "      <td>...</td>\n",
       "      <td>...</td>\n",
       "      <td>...</td>\n",
       "      <td>...</td>\n",
       "      <td>...</td>\n",
       "      <td>...</td>\n",
       "      <td>...</td>\n",
       "      <td>...</td>\n",
       "    </tr>\n",
       "    <tr>\n",
       "      <th>4075</th>\n",
       "      <td>2020-09-11</td>\n",
       "      <td>Four Mile</td>\n",
       "      <td>6</td>\n",
       "      <td>O. elongatus</td>\n",
       "      <td>0.000000</td>\n",
       "      <td>MPA</td>\n",
       "      <td>3.4</td>\n",
       "      <td>1.6</td>\n",
       "      <td>6.0</td>\n",
       "      <td>2.0</td>\n",
       "      <td>14.0</td>\n",
       "      <td>sand</td>\n",
       "      <td>2.0</td>\n",
       "      <td>14.0</td>\n",
       "      <td>flat</td>\n",
       "    </tr>\n",
       "    <tr>\n",
       "      <th>4076</th>\n",
       "      <td>2020-09-11</td>\n",
       "      <td>Four Mile</td>\n",
       "      <td>6</td>\n",
       "      <td>A. koelzi</td>\n",
       "      <td>0.000000</td>\n",
       "      <td>MPA</td>\n",
       "      <td>3.4</td>\n",
       "      <td>1.6</td>\n",
       "      <td>6.0</td>\n",
       "      <td>2.0</td>\n",
       "      <td>14.0</td>\n",
       "      <td>sand</td>\n",
       "      <td>2.0</td>\n",
       "      <td>14.0</td>\n",
       "      <td>flat</td>\n",
       "    </tr>\n",
       "    <tr>\n",
       "      <th>4077</th>\n",
       "      <td>2020-09-11</td>\n",
       "      <td>Four Mile</td>\n",
       "      <td>6</td>\n",
       "      <td>C. productus</td>\n",
       "      <td>0.000000</td>\n",
       "      <td>MPA</td>\n",
       "      <td>3.4</td>\n",
       "      <td>1.6</td>\n",
       "      <td>6.0</td>\n",
       "      <td>2.0</td>\n",
       "      <td>14.0</td>\n",
       "      <td>sand</td>\n",
       "      <td>2.0</td>\n",
       "      <td>14.0</td>\n",
       "      <td>flat</td>\n",
       "    </tr>\n",
       "    <tr>\n",
       "      <th>4078</th>\n",
       "      <td>2020-09-11</td>\n",
       "      <td>Four Mile</td>\n",
       "      <td>6</td>\n",
       "      <td>L. armatus</td>\n",
       "      <td>0.000000</td>\n",
       "      <td>MPA</td>\n",
       "      <td>3.4</td>\n",
       "      <td>1.6</td>\n",
       "      <td>6.0</td>\n",
       "      <td>2.0</td>\n",
       "      <td>14.0</td>\n",
       "      <td>sand</td>\n",
       "      <td>2.0</td>\n",
       "      <td>14.0</td>\n",
       "      <td>flat</td>\n",
       "    </tr>\n",
       "    <tr>\n",
       "      <th>4079</th>\n",
       "      <td>2020-09-11</td>\n",
       "      <td>Four Mile</td>\n",
       "      <td>6</td>\n",
       "      <td>P. triserata</td>\n",
       "      <td>0.000000</td>\n",
       "      <td>MPA</td>\n",
       "      <td>3.4</td>\n",
       "      <td>1.6</td>\n",
       "      <td>6.0</td>\n",
       "      <td>2.0</td>\n",
       "      <td>14.0</td>\n",
       "      <td>sand</td>\n",
       "      <td>2.0</td>\n",
       "      <td>14.0</td>\n",
       "      <td>flat</td>\n",
       "    </tr>\n",
       "  </tbody>\n",
       "</table>\n",
       "<p>4080 rows × 15 columns</p>\n",
       "</div>"
      ],
      "text/plain": [
       "            Date             Site  BRUV      Sci_Name      MaxN MPA_Status  \\\n",
       "0     2019-07-09  Stillwater Cove     1  C. stigmaeus  0.333333        Ref   \n",
       "1     2019-07-09  Stillwater Cove     1      H. caryi  0.166667        Ref   \n",
       "2     2019-07-09  Stillwater Cove     1   E. jacksoni  0.000000        Ref   \n",
       "3     2019-07-09  Stillwater Cove     1    A. affinis  0.000000        Ref   \n",
       "4     2019-07-09  Stillwater Cove     1  C. biplicata  0.000000        Ref   \n",
       "...          ...              ...   ...           ...       ...        ...   \n",
       "4075  2020-09-11        Four Mile     6  O. elongatus  0.000000        MPA   \n",
       "4076  2020-09-11        Four Mile     6     A. koelzi  0.000000        MPA   \n",
       "4077  2020-09-11        Four Mile     6  C. productus  0.000000        MPA   \n",
       "4078  2020-09-11        Four Mile     6    L. armatus  0.000000        MPA   \n",
       "4079  2020-09-11        Four Mile     6  P. triserata  0.000000        MPA   \n",
       "\n",
       "      Tide_height_ft  Wind_Average_mph  Depth_ft  Visibility_ft  Temp_C  \\\n",
       "0                2.5               NaN       7.0            2.0    14.0   \n",
       "1                2.5               NaN       7.0            2.0    14.0   \n",
       "2                2.5               NaN       7.0            2.0    14.0   \n",
       "3                2.5               NaN       7.0            2.0    14.0   \n",
       "4                2.5               NaN       7.0            2.0    14.0   \n",
       "...              ...               ...       ...            ...     ...   \n",
       "4075             3.4               1.6       6.0            2.0    14.0   \n",
       "4076             3.4               1.6       6.0            2.0    14.0   \n",
       "4077             3.4               1.6       6.0            2.0    14.0   \n",
       "4078             3.4               1.6       6.0            2.0    14.0   \n",
       "4079             3.4               1.6       6.0            2.0    14.0   \n",
       "\n",
       "     Substrate  Breaker_Height_m  Breaker_Period_s Microhabitat  \n",
       "0         sand               NaN               NaN         flat  \n",
       "1         sand               NaN               NaN         flat  \n",
       "2         sand               NaN               NaN         flat  \n",
       "3         sand               NaN               NaN         flat  \n",
       "4         sand               NaN               NaN         flat  \n",
       "...        ...               ...               ...          ...  \n",
       "4075      sand               2.0              14.0         flat  \n",
       "4076      sand               2.0              14.0         flat  \n",
       "4077      sand               2.0              14.0         flat  \n",
       "4078      sand               2.0              14.0         flat  \n",
       "4079      sand               2.0              14.0         flat  \n",
       "\n",
       "[4080 rows x 15 columns]"
      ]
     },
     "execution_count": 2,
     "metadata": {},
     "output_type": "execute_result"
    }
   ],
   "source": [
    "#import the data\n",
    "filename_bruv = 'Results/maxn_environmental_combined.csv'\n",
    "df_merge = pd.read_csv(filename_bruv)\n",
    "df_merge"
   ]
  },
  {
   "cell_type": "markdown",
   "metadata": {},
   "source": [
    "### Create histograms of the species abundances"
   ]
  },
  {
   "cell_type": "code",
   "execution_count": 3,
   "metadata": {},
   "outputs": [
    {
     "data": {
      "image/png": "[encoded data removed]",
      "text/plain": [
       "<Figure size 432x288 with 1 Axes>"
      ]
     },
     "metadata": {
      "needs_background": "light"
     },
     "output_type": "display_data"
    },
    {
     "data": {
      "image/png": "[encoded data removed]",
      "text/plain": [
       "<Figure size 432x288 with 1 Axes>"
      ]
     },
     "metadata": {
      "needs_background": "light"
     },
     "output_type": "display_data"
    },
    {
     "data": {
      "image/png": "[encoded data removed]",
      "text/plain": [
       "<Figure size 432x288 with 1 Axes>"
      ]
     },
     "metadata": {
      "needs_background": "light"
     },
     "output_type": "display_data"
    },
    {
     "data": {
      "image/png": "[encoded data removed]",
      "text/plain": [
       "<Figure size 432x288 with 1 Axes>"
      ]
     },
     "metadata": {
      "needs_background": "light"
     },
     "output_type": "display_data"
    },
    {
     "data": {
      "image/png": "[encoded data removed]",
      "text/plain": [
       "<Figure size 432x288 with 1 Axes>"
      ]
     },
     "metadata": {
      "needs_background": "light"
     },
     "output_type": "display_data"
    },
    {
     "data": {
      "image/png": "[encoded data removed]",
      "text/plain": [
       "<Figure size 432x288 with 1 Axes>"
      ]
     },
     "metadata": {
      "needs_background": "light"
     },
     "output_type": "display_data"
    },
    {
     "data": {
      "image/png": "[encoded data removed]",
      "text/plain": [
       "<Figure size 432x288 with 1 Axes>"
      ]
     },
     "metadata": {
      "needs_background": "light"
     },
     "output_type": "display_data"
    },
    {
     "data": {
      "image/png": "[encoded data removed]",
      "text/plain": [
       "<Figure size 432x288 with 1 Axes>"
      ]
     },
     "metadata": {
      "needs_background": "light"
     },
     "output_type": "display_data"
    },
    {
     "data": {
      "image/png": "[encoded data removed]",
      "text/plain": [
       "<Figure size 432x288 with 1 Axes>"
      ]
     },
     "metadata": {
      "needs_background": "light"
     },
     "output_type": "display_data"
    },
    {
     "data": {
      "image/png": "[encoded data removed]",
      "text/plain": [
       "<Figure size 432x288 with 1 Axes>"
      ]
     },
     "metadata": {
      "needs_background": "light"
     },
     "output_type": "display_data"
    },
    {
     "data": {
      "image/png": "[encoded data removed]",
      "text/plain": [
       "<Figure size 432x288 with 1 Axes>"
      ]
     },
     "metadata": {
      "needs_background": "light"
     },
     "output_type": "display_data"
    },
    {
     "data": {
      "image/png": "[encoded data removed]",
      "text/plain": [
       "<Figure size 432x288 with 1 Axes>"
      ]
     },
     "metadata": {
      "needs_background": "light"
     },
     "output_type": "display_data"
    },
    {
     "data": {
      "image/png": "[encoded data removed]",
      "text/plain": [
       "<Figure size 432x288 with 1 Axes>"
      ]
     },
     "metadata": {
      "needs_background": "light"
     },
     "output_type": "display_data"
    },
    {
     "data": {
      "image/png": "[encoded data removed]",
      "text/plain": [
       "<Figure size 432x288 with 1 Axes>"
      ]
     },
     "metadata": {
      "needs_background": "light"
     },
     "output_type": "display_data"
    },
    {
     "data": {
      "image/png": "[encoded data removed]",
      "text/plain": [
       "<Figure size 432x288 with 1 Axes>"
      ]
     },
     "metadata": {
      "needs_background": "light"
     },
     "output_type": "display_data"
    },
    {
     "data": {
      "image/png": "[encoded data removed]",
      "text/plain": [
       "<Figure size 432x288 with 1 Axes>"
      ]
     },
     "metadata": {
      "needs_background": "light"
     },
     "output_type": "display_data"
    },
    {
     "data": {
      "image/png": "[encoded data removed]",
      "text/plain": [
       "<Figure size 432x288 with 1 Axes>"
      ]
     },
     "metadata": {
      "needs_background": "light"
     },
     "output_type": "display_data"
    }
   ],
   "source": [
    "#create species list\n",
    "species_list = pd.unique(df_merge['Sci_Name'])\n",
    "\n",
    "#loop through all 17 species to see their distribution \n",
    "for i in species_list:\n",
    "    plt.figure()\n",
    "    df_spp = df_merge[df_merge['Sci_Name'] == i]\n",
    "    plt.hist(df_spp['MaxN'])\n",
    "    plt.yscale('log')\n",
    "    plt.title(str(\"Abundances of \" + i)) \n",
    "    plt.xlabel('Average MaxN')\n",
    "    plt.ylabel('log(Count)')\n",
    "    plt.savefig(str('figure/abundance_' + i + '.png'))"
   ]
  },
  {
   "cell_type": "markdown",
   "metadata": {},
   "source": [
    "Based on the histrograms for all the species, it seems like a zero-inflated model is the most appropriate for the data. "
   ]
  },
  {
   "cell_type": "markdown",
   "metadata": {},
   "source": [
    "### Create stacked bar plot to view all the abundances"
   ]
  },
  {
   "cell_type": "code",
   "execution_count": 4,
   "metadata": {},
   "outputs": [
    {
     "name": "stderr",
     "output_type": "stream",
     "text": [
      "<ipython-input-4-800acaa4abbd>:8: UserWarning: FixedFormatter should only be used together with FixedLocator\n",
      "  ax.set_xticklabels(labels = lab, rotation = 30)\n"
     ]
    },
    {
     "data": {
      "image/png": "[encoded data removed]",
      "text/plain": [
       "<Figure size 432x288 with 1 Axes>"
      ]
     },
     "metadata": {
      "needs_background": "light"
     },
     "output_type": "display_data"
    }
   ],
   "source": [
    "#create variable with unique site names\n",
    "lab = pd.unique(df_merge['Site'])\n",
    "\n",
    "#Stacked bar chart showing average MaxN value for each family and species\n",
    "ax = sns.histplot(df_merge, x='Site', hue='Sci_Name', weights='MaxN',\n",
    "             multiple='stack', shrink=0.8)\n",
    "ax.set_ylabel('Abundance')\n",
    "ax.set_xticklabels(labels = lab, rotation = 30)\n",
    "ax.set_title('Abundances of Species by Site')\n",
    "# Fix the legend so it's not on top of the bars\n",
    "legend = ax.get_legend()\n",
    "legend.set_bbox_to_anchor((1, 1))\n",
    "plt.savefig('figure/stacked_bar.png')\n"
   ]
  },
  {
   "cell_type": "markdown",
   "metadata": {},
   "source": [
    "### Assess assumptions of Poisson and Negative Binomial Model\n",
    "\n",
    "For the Poisson model, one assumption is that variance equals the means. The negative binomial model removes this assumptions and is better for overdispersed data."
   ]
  },
  {
   "cell_type": "code",
   "execution_count": 5,
   "metadata": {},
   "outputs": [
    {
     "data": {
      "text/html": [
       "<div>\n",
       "<style scoped>\n",
       "    .dataframe tbody tr th:only-of-type {\n",
       "        vertical-align: middle;\n",
       "    }\n",
       "\n",
       "    .dataframe tbody tr th {\n",
       "        vertical-align: top;\n",
       "    }\n",
       "\n",
       "    .dataframe thead tr th {\n",
       "        text-align: left;\n",
       "    }\n",
       "</style>\n",
       "<table border=\"1\" class=\"dataframe\">\n",
       "  <thead>\n",
       "    <tr>\n",
       "      <th></th>\n",
       "      <th>Sci_Name</th>\n",
       "      <th colspan=\"2\" halign=\"left\">MaxN</th>\n",
       "    </tr>\n",
       "    <tr>\n",
       "      <th></th>\n",
       "      <th></th>\n",
       "      <th>mean</th>\n",
       "      <th>variance</th>\n",
       "    </tr>\n",
       "  </thead>\n",
       "  <tbody>\n",
       "    <tr>\n",
       "      <th>0</th>\n",
       "      <td>A. affinis</td>\n",
       "      <td>0.023958</td>\n",
       "      <td>0.032210</td>\n",
       "    </tr>\n",
       "    <tr>\n",
       "      <th>1</th>\n",
       "      <td>A. argenteus</td>\n",
       "      <td>1.144444</td>\n",
       "      <td>11.299159</td>\n",
       "    </tr>\n",
       "    <tr>\n",
       "      <th>2</th>\n",
       "      <td>A. koelzi</td>\n",
       "      <td>0.047917</td>\n",
       "      <td>0.110551</td>\n",
       "    </tr>\n",
       "    <tr>\n",
       "      <th>3</th>\n",
       "      <td>C. biplicata</td>\n",
       "      <td>0.768056</td>\n",
       "      <td>6.861537</td>\n",
       "    </tr>\n",
       "    <tr>\n",
       "      <th>4</th>\n",
       "      <td>C. gracilis</td>\n",
       "      <td>0.271528</td>\n",
       "      <td>0.971064</td>\n",
       "    </tr>\n",
       "    <tr>\n",
       "      <th>5</th>\n",
       "      <td>C. magister</td>\n",
       "      <td>0.049653</td>\n",
       "      <td>0.056996</td>\n",
       "    </tr>\n",
       "    <tr>\n",
       "      <th>6</th>\n",
       "      <td>C. productus</td>\n",
       "      <td>0.013194</td>\n",
       "      <td>0.004976</td>\n",
       "    </tr>\n",
       "    <tr>\n",
       "      <th>7</th>\n",
       "      <td>C. stigmaeus</td>\n",
       "      <td>0.131250</td>\n",
       "      <td>0.223630</td>\n",
       "    </tr>\n",
       "    <tr>\n",
       "      <th>8</th>\n",
       "      <td>E. analoga</td>\n",
       "      <td>0.593750</td>\n",
       "      <td>21.251454</td>\n",
       "    </tr>\n",
       "    <tr>\n",
       "      <th>9</th>\n",
       "      <td>E. jacksoni</td>\n",
       "      <td>0.074653</td>\n",
       "      <td>0.061296</td>\n",
       "    </tr>\n",
       "    <tr>\n",
       "      <th>10</th>\n",
       "      <td>H. argenteum</td>\n",
       "      <td>0.252431</td>\n",
       "      <td>1.499444</td>\n",
       "    </tr>\n",
       "    <tr>\n",
       "      <th>11</th>\n",
       "      <td>H. caryi</td>\n",
       "      <td>0.047222</td>\n",
       "      <td>0.139147</td>\n",
       "    </tr>\n",
       "    <tr>\n",
       "      <th>12</th>\n",
       "      <td>H. ellipticum</td>\n",
       "      <td>0.152431</td>\n",
       "      <td>0.608160</td>\n",
       "    </tr>\n",
       "    <tr>\n",
       "      <th>13</th>\n",
       "      <td>L. armatus</td>\n",
       "      <td>0.020486</td>\n",
       "      <td>0.020558</td>\n",
       "    </tr>\n",
       "    <tr>\n",
       "      <th>14</th>\n",
       "      <td>O. elongatus</td>\n",
       "      <td>0.015278</td>\n",
       "      <td>0.007579</td>\n",
       "    </tr>\n",
       "    <tr>\n",
       "      <th>15</th>\n",
       "      <td>P. triserata</td>\n",
       "      <td>0.014583</td>\n",
       "      <td>0.006442</td>\n",
       "    </tr>\n",
       "    <tr>\n",
       "      <th>16</th>\n",
       "      <td>P. vitulina</td>\n",
       "      <td>0.005556</td>\n",
       "      <td>0.000721</td>\n",
       "    </tr>\n",
       "  </tbody>\n",
       "</table>\n",
       "</div>"
      ],
      "text/plain": [
       "         Sci_Name      MaxN           \n",
       "                       mean   variance\n",
       "0      A. affinis  0.023958   0.032210\n",
       "1    A. argenteus  1.144444  11.299159\n",
       "2       A. koelzi  0.047917   0.110551\n",
       "3    C. biplicata  0.768056   6.861537\n",
       "4     C. gracilis  0.271528   0.971064\n",
       "5     C. magister  0.049653   0.056996\n",
       "6    C. productus  0.013194   0.004976\n",
       "7    C. stigmaeus  0.131250   0.223630\n",
       "8      E. analoga  0.593750  21.251454\n",
       "9     E. jacksoni  0.074653   0.061296\n",
       "10   H. argenteum  0.252431   1.499444\n",
       "11       H. caryi  0.047222   0.139147\n",
       "12  H. ellipticum  0.152431   0.608160\n",
       "13     L. armatus  0.020486   0.020558\n",
       "14   O. elongatus  0.015278   0.007579\n",
       "15   P. triserata  0.014583   0.006442\n",
       "16    P. vitulina  0.005556   0.000721"
      ]
     },
     "execution_count": 5,
     "metadata": {},
     "output_type": "execute_result"
    }
   ],
   "source": [
    "#create a list of the functions to run\n",
    "func_list = [np.mean, surfzone.variance]\n",
    "\n",
    "#calculate mean and regression\n",
    "df_merge.groupby(['Sci_Name'], as_index = False).agg({'MaxN':func_list})"
   ]
  },
  {
   "cell_type": "markdown",
   "metadata": {},
   "source": [
    "### Run Zero-Inflated Poisson Model on Species"
   ]
  },
  {
   "cell_type": "code",
   "execution_count": 6,
   "metadata": {},
   "outputs": [
    {
     "name": "stderr",
     "output_type": "stream",
     "text": [
      "C:\\Users\\gammo\\anaconda3\\lib\\site-packages\\statsmodels\\base\\model.py:566: ConvergenceWarning: Maximum Likelihood optimization failed to converge. Check mle_retvals\n",
      "  warnings.warn(\"Maximum Likelihood optimization failed to \"\n",
      "C:\\Users\\gammo\\anaconda3\\lib\\site-packages\\statsmodels\\base\\model.py:547: HessianInversionWarning: Inverting hessian failed, no bse or cov_params available\n",
      "  warnings.warn('Inverting hessian failed, no bse or cov_params '\n",
      "C:\\Users\\gammo\\anaconda3\\lib\\site-packages\\statsmodels\\base\\model.py:566: ConvergenceWarning: Maximum Likelihood optimization failed to converge. Check mle_retvals\n",
      "  warnings.warn(\"Maximum Likelihood optimization failed to \"\n",
      "C:\\Users\\gammo\\anaconda3\\lib\\site-packages\\statsmodels\\base\\model.py:566: ConvergenceWarning: Maximum Likelihood optimization failed to converge. Check mle_retvals\n",
      "  warnings.warn(\"Maximum Likelihood optimization failed to \"\n",
      "C:\\Users\\gammo\\anaconda3\\lib\\site-packages\\statsmodels\\base\\model.py:566: ConvergenceWarning: Maximum Likelihood optimization failed to converge. Check mle_retvals\n",
      "  warnings.warn(\"Maximum Likelihood optimization failed to \"\n",
      "C:\\Users\\gammo\\anaconda3\\lib\\site-packages\\statsmodels\\base\\model.py:566: ConvergenceWarning: Maximum Likelihood optimization failed to converge. Check mle_retvals\n",
      "  warnings.warn(\"Maximum Likelihood optimization failed to \"\n",
      "C:\\Users\\gammo\\anaconda3\\lib\\site-packages\\statsmodels\\base\\model.py:547: HessianInversionWarning: Inverting hessian failed, no bse or cov_params available\n",
      "  warnings.warn('Inverting hessian failed, no bse or cov_params '\n",
      "C:\\Users\\gammo\\anaconda3\\lib\\site-packages\\statsmodels\\base\\model.py:566: ConvergenceWarning: Maximum Likelihood optimization failed to converge. Check mle_retvals\n",
      "  warnings.warn(\"Maximum Likelihood optimization failed to \"\n",
      "C:\\Users\\gammo\\anaconda3\\lib\\site-packages\\statsmodels\\base\\model.py:566: ConvergenceWarning: Maximum Likelihood optimization failed to converge. Check mle_retvals\n",
      "  warnings.warn(\"Maximum Likelihood optimization failed to \"\n",
      "C:\\Users\\gammo\\anaconda3\\lib\\site-packages\\statsmodels\\base\\model.py:566: ConvergenceWarning: Maximum Likelihood optimization failed to converge. Check mle_retvals\n",
      "  warnings.warn(\"Maximum Likelihood optimization failed to \"\n"
     ]
    },
    {
     "name": "stdout",
     "output_type": "stream",
     "text": [
      "Warning: Maximum number of iterations has been exceeded.\n",
      "         Current function value: 0.314916\n",
      "         Iterations: 35\n",
      "         Function evaluations: 39\n",
      "         Gradient evaluations: 39\n",
      "Warning: Maximum number of iterations has been exceeded.\n",
      "         Current function value: 0.377701\n",
      "         Iterations: 35\n",
      "         Function evaluations: 40\n",
      "         Gradient evaluations: 40\n",
      "Warning: Maximum number of iterations has been exceeded.\n",
      "         Current function value: 0.182519\n",
      "         Iterations: 35\n",
      "         Function evaluations: 39\n",
      "         Gradient evaluations: 39\n",
      "Warning: Maximum number of iterations has been exceeded.\n",
      "         Current function value: 0.182957\n",
      "         Iterations: 35\n",
      "         Function evaluations: 38\n",
      "         Gradient evaluations: 38\n"
     ]
    },
    {
     "name": "stderr",
     "output_type": "stream",
     "text": [
      "C:\\Users\\gammo\\anaconda3\\lib\\site-packages\\statsmodels\\base\\model.py:566: ConvergenceWarning: Maximum Likelihood optimization failed to converge. Check mle_retvals\n",
      "  warnings.warn(\"Maximum Likelihood optimization failed to \"\n",
      "C:\\Users\\gammo\\anaconda3\\lib\\site-packages\\statsmodels\\base\\model.py:547: HessianInversionWarning: Inverting hessian failed, no bse or cov_params available\n",
      "  warnings.warn('Inverting hessian failed, no bse or cov_params '\n",
      "C:\\Users\\gammo\\anaconda3\\lib\\site-packages\\statsmodels\\base\\model.py:566: ConvergenceWarning: Maximum Likelihood optimization failed to converge. Check mle_retvals\n",
      "  warnings.warn(\"Maximum Likelihood optimization failed to \"\n",
      "C:\\Users\\gammo\\anaconda3\\lib\\site-packages\\statsmodels\\base\\model.py:566: ConvergenceWarning: Maximum Likelihood optimization failed to converge. Check mle_retvals\n",
      "  warnings.warn(\"Maximum Likelihood optimization failed to \"\n",
      "C:\\Users\\gammo\\anaconda3\\lib\\site-packages\\statsmodels\\base\\model.py:566: ConvergenceWarning: Maximum Likelihood optimization failed to converge. Check mle_retvals\n",
      "  warnings.warn(\"Maximum Likelihood optimization failed to \"\n",
      "C:\\Users\\gammo\\anaconda3\\lib\\site-packages\\statsmodels\\base\\model.py:566: ConvergenceWarning: Maximum Likelihood optimization failed to converge. Check mle_retvals\n",
      "  warnings.warn(\"Maximum Likelihood optimization failed to \"\n",
      "C:\\Users\\gammo\\anaconda3\\lib\\site-packages\\statsmodels\\base\\model.py:547: HessianInversionWarning: Inverting hessian failed, no bse or cov_params available\n",
      "  warnings.warn('Inverting hessian failed, no bse or cov_params '\n",
      "C:\\Users\\gammo\\anaconda3\\lib\\site-packages\\statsmodels\\base\\model.py:566: ConvergenceWarning: Maximum Likelihood optimization failed to converge. Check mle_retvals\n",
      "  warnings.warn(\"Maximum Likelihood optimization failed to \"\n",
      "C:\\Users\\gammo\\anaconda3\\lib\\site-packages\\statsmodels\\base\\model.py:566: ConvergenceWarning: Maximum Likelihood optimization failed to converge. Check mle_retvals\n",
      "  warnings.warn(\"Maximum Likelihood optimization failed to \"\n",
      "C:\\Users\\gammo\\anaconda3\\lib\\site-packages\\statsmodels\\base\\model.py:566: ConvergenceWarning: Maximum Likelihood optimization failed to converge. Check mle_retvals\n",
      "  warnings.warn(\"Maximum Likelihood optimization failed to \"\n"
     ]
    },
    {
     "name": "stdout",
     "output_type": "stream",
     "text": [
      "Warning: Maximum number of iterations has been exceeded.\n",
      "         Current function value: 0.231917\n",
      "         Iterations: 35\n",
      "         Function evaluations: 38\n",
      "         Gradient evaluations: 38\n",
      "Warning: Maximum number of iterations has been exceeded.\n",
      "         Current function value: 0.234165\n",
      "         Iterations: 35\n",
      "         Function evaluations: 38\n",
      "         Gradient evaluations: 38\n",
      "Warning: Maximum number of iterations has been exceeded.\n",
      "         Current function value: 0.078548\n",
      "         Iterations: 35\n",
      "         Function evaluations: 40\n",
      "         Gradient evaluations: 40\n",
      "Warning: Maximum number of iterations has been exceeded.\n",
      "         Current function value: 0.079017\n",
      "         Iterations: 35\n",
      "         Function evaluations: 38\n",
      "         Gradient evaluations: 38\n"
     ]
    },
    {
     "name": "stderr",
     "output_type": "stream",
     "text": [
      "C:\\Users\\gammo\\anaconda3\\lib\\site-packages\\statsmodels\\base\\model.py:566: ConvergenceWarning: Maximum Likelihood optimization failed to converge. Check mle_retvals\n",
      "  warnings.warn(\"Maximum Likelihood optimization failed to \"\n",
      "C:\\Users\\gammo\\anaconda3\\lib\\site-packages\\statsmodels\\discrete\\count_model.py:504: RuntimeWarning: overflow encountered in exp\n",
      "  coeff = (1 + w[zero_idx] * (np.exp(mu[zero_idx]) - 1))\n",
      "C:\\Users\\gammo\\anaconda3\\lib\\site-packages\\statsmodels\\discrete\\count_model.py:512: RuntimeWarning: overflow encountered in exp\n",
      "  w[zero_idx] * mu[zero_idx] * np.exp(mu[zero_idx]) /\n",
      "C:\\Users\\gammo\\anaconda3\\lib\\site-packages\\statsmodels\\discrete\\count_model.py:513: RuntimeWarning: overflow encountered in square\n",
      "  coeff**2)).sum() - (mu[nonzero_idx] * self.exog[nonzero_idx, i] *\n",
      "C:\\Users\\gammo\\anaconda3\\lib\\site-packages\\statsmodels\\discrete\\count_model.py:512: RuntimeWarning: invalid value encountered in true_divide\n",
      "  w[zero_idx] * mu[zero_idx] * np.exp(mu[zero_idx]) /\n",
      "C:\\Users\\gammo\\anaconda3\\lib\\site-packages\\statsmodels\\base\\model.py:547: HessianInversionWarning: Inverting hessian failed, no bse or cov_params available\n",
      "  warnings.warn('Inverting hessian failed, no bse or cov_params '\n",
      "C:\\Users\\gammo\\anaconda3\\lib\\site-packages\\statsmodels\\base\\model.py:566: ConvergenceWarning: Maximum Likelihood optimization failed to converge. Check mle_retvals\n",
      "  warnings.warn(\"Maximum Likelihood optimization failed to \"\n",
      "C:\\Users\\gammo\\anaconda3\\lib\\site-packages\\statsmodels\\base\\model.py:566: ConvergenceWarning: Maximum Likelihood optimization failed to converge. Check mle_retvals\n",
      "  warnings.warn(\"Maximum Likelihood optimization failed to \"\n",
      "C:\\Users\\gammo\\anaconda3\\lib\\site-packages\\statsmodels\\discrete\\count_model.py:504: RuntimeWarning: overflow encountered in exp\n",
      "  coeff = (1 + w[zero_idx] * (np.exp(mu[zero_idx]) - 1))\n",
      "C:\\Users\\gammo\\anaconda3\\lib\\site-packages\\statsmodels\\discrete\\count_model.py:512: RuntimeWarning: overflow encountered in exp\n",
      "  w[zero_idx] * mu[zero_idx] * np.exp(mu[zero_idx]) /\n",
      "C:\\Users\\gammo\\anaconda3\\lib\\site-packages\\statsmodels\\discrete\\count_model.py:513: RuntimeWarning: overflow encountered in square\n",
      "  coeff**2)).sum() - (mu[nonzero_idx] * self.exog[nonzero_idx, i] *\n",
      "C:\\Users\\gammo\\anaconda3\\lib\\site-packages\\statsmodels\\discrete\\count_model.py:512: RuntimeWarning: invalid value encountered in true_divide\n",
      "  w[zero_idx] * mu[zero_idx] * np.exp(mu[zero_idx]) /\n",
      "C:\\Users\\gammo\\anaconda3\\lib\\site-packages\\statsmodels\\base\\model.py:547: HessianInversionWarning: Inverting hessian failed, no bse or cov_params available\n",
      "  warnings.warn('Inverting hessian failed, no bse or cov_params '\n",
      "C:\\Users\\gammo\\anaconda3\\lib\\site-packages\\statsmodels\\base\\model.py:566: ConvergenceWarning: Maximum Likelihood optimization failed to converge. Check mle_retvals\n",
      "  warnings.warn(\"Maximum Likelihood optimization failed to \"\n",
      "C:\\Users\\gammo\\anaconda3\\lib\\site-packages\\statsmodels\\base\\model.py:566: ConvergenceWarning: Maximum Likelihood optimization failed to converge. Check mle_retvals\n",
      "  warnings.warn(\"Maximum Likelihood optimization failed to \"\n",
      "C:\\Users\\gammo\\anaconda3\\lib\\site-packages\\statsmodels\\base\\model.py:547: HessianInversionWarning: Inverting hessian failed, no bse or cov_params available\n",
      "  warnings.warn('Inverting hessian failed, no bse or cov_params '\n",
      "C:\\Users\\gammo\\anaconda3\\lib\\site-packages\\statsmodels\\base\\model.py:566: ConvergenceWarning: Maximum Likelihood optimization failed to converge. Check mle_retvals\n",
      "  warnings.warn(\"Maximum Likelihood optimization failed to \"\n",
      "C:\\Users\\gammo\\anaconda3\\lib\\site-packages\\statsmodels\\base\\model.py:566: ConvergenceWarning: Maximum Likelihood optimization failed to converge. Check mle_retvals\n",
      "  warnings.warn(\"Maximum Likelihood optimization failed to \"\n",
      "C:\\Users\\gammo\\anaconda3\\lib\\site-packages\\statsmodels\\base\\model.py:566: ConvergenceWarning: Maximum Likelihood optimization failed to converge. Check mle_retvals\n",
      "  warnings.warn(\"Maximum Likelihood optimization failed to \"\n"
     ]
    },
    {
     "name": "stdout",
     "output_type": "stream",
     "text": [
      "Warning: Maximum number of iterations has been exceeded.\n",
      "         Current function value: 0.460822\n",
      "         Iterations: 35\n",
      "         Function evaluations: 41\n",
      "         Gradient evaluations: 41\n",
      "Warning: Maximum number of iterations has been exceeded.\n",
      "         Current function value: 0.601098\n",
      "         Iterations: 35\n",
      "         Function evaluations: 41\n",
      "         Gradient evaluations: 41\n",
      "Warning: Maximum number of iterations has been exceeded.\n",
      "         Current function value: 0.502136\n",
      "         Iterations: 35\n",
      "         Function evaluations: 46\n",
      "         Gradient evaluations: 46\n",
      "Warning: Maximum number of iterations has been exceeded.\n",
      "         Current function value: 0.585529\n",
      "         Iterations: 35\n",
      "         Function evaluations: 39\n",
      "         Gradient evaluations: 39\n"
     ]
    },
    {
     "name": "stderr",
     "output_type": "stream",
     "text": [
      "C:\\Users\\gammo\\anaconda3\\lib\\site-packages\\statsmodels\\base\\model.py:566: ConvergenceWarning: Maximum Likelihood optimization failed to converge. Check mle_retvals\n",
      "  warnings.warn(\"Maximum Likelihood optimization failed to \"\n",
      "C:\\Users\\gammo\\anaconda3\\lib\\site-packages\\statsmodels\\base\\model.py:566: ConvergenceWarning: Maximum Likelihood optimization failed to converge. Check mle_retvals\n",
      "  warnings.warn(\"Maximum Likelihood optimization failed to \"\n",
      "C:\\Users\\gammo\\anaconda3\\lib\\site-packages\\statsmodels\\base\\model.py:566: ConvergenceWarning: Maximum Likelihood optimization failed to converge. Check mle_retvals\n",
      "  warnings.warn(\"Maximum Likelihood optimization failed to \"\n",
      "C:\\Users\\gammo\\anaconda3\\lib\\site-packages\\statsmodels\\base\\model.py:547: HessianInversionWarning: Inverting hessian failed, no bse or cov_params available\n",
      "  warnings.warn('Inverting hessian failed, no bse or cov_params '\n",
      "C:\\Users\\gammo\\anaconda3\\lib\\site-packages\\statsmodels\\base\\model.py:566: ConvergenceWarning: Maximum Likelihood optimization failed to converge. Check mle_retvals\n",
      "  warnings.warn(\"Maximum Likelihood optimization failed to \"\n",
      "C:\\Users\\gammo\\anaconda3\\lib\\site-packages\\statsmodels\\base\\model.py:566: ConvergenceWarning: Maximum Likelihood optimization failed to converge. Check mle_retvals\n",
      "  warnings.warn(\"Maximum Likelihood optimization failed to \"\n",
      "C:\\Users\\gammo\\anaconda3\\lib\\site-packages\\statsmodels\\base\\model.py:566: ConvergenceWarning: Maximum Likelihood optimization failed to converge. Check mle_retvals\n",
      "  warnings.warn(\"Maximum Likelihood optimization failed to \"\n",
      "C:\\Users\\gammo\\anaconda3\\lib\\site-packages\\statsmodels\\base\\model.py:566: ConvergenceWarning: Maximum Likelihood optimization failed to converge. Check mle_retvals\n",
      "  warnings.warn(\"Maximum Likelihood optimization failed to \"\n"
     ]
    },
    {
     "name": "stdout",
     "output_type": "stream",
     "text": [
      "Warning: Maximum number of iterations has been exceeded.\n",
      "         Current function value: 1.094034\n",
      "         Iterations: 35\n",
      "         Function evaluations: 40\n",
      "         Gradient evaluations: 40\n",
      "Warning: Maximum number of iterations has been exceeded.\n",
      "         Current function value: 0.325995\n",
      "         Iterations: 35\n",
      "         Function evaluations: 43\n",
      "         Gradient evaluations: 43\n",
      "Warning: Maximum number of iterations has been exceeded.\n",
      "         Current function value: 0.394518\n",
      "         Iterations: 35\n",
      "         Function evaluations: 39\n",
      "         Gradient evaluations: 39\n",
      "Warning: Maximum number of iterations has been exceeded.\n",
      "         Current function value: 0.263261\n",
      "         Iterations: 35\n",
      "         Function evaluations: 40\n",
      "         Gradient evaluations: 40\n"
     ]
    },
    {
     "name": "stderr",
     "output_type": "stream",
     "text": [
      "C:\\Users\\gammo\\anaconda3\\lib\\site-packages\\statsmodels\\base\\model.py:547: HessianInversionWarning: Inverting hessian failed, no bse or cov_params available\n",
      "  warnings.warn('Inverting hessian failed, no bse or cov_params '\n",
      "C:\\Users\\gammo\\anaconda3\\lib\\site-packages\\statsmodels\\base\\model.py:566: ConvergenceWarning: Maximum Likelihood optimization failed to converge. Check mle_retvals\n",
      "  warnings.warn(\"Maximum Likelihood optimization failed to \"\n",
      "C:\\Users\\gammo\\anaconda3\\lib\\site-packages\\statsmodels\\base\\model.py:566: ConvergenceWarning: Maximum Likelihood optimization failed to converge. Check mle_retvals\n",
      "  warnings.warn(\"Maximum Likelihood optimization failed to \"\n",
      "C:\\Users\\gammo\\anaconda3\\lib\\site-packages\\statsmodels\\base\\model.py:547: HessianInversionWarning: Inverting hessian failed, no bse or cov_params available\n",
      "  warnings.warn('Inverting hessian failed, no bse or cov_params '\n",
      "C:\\Users\\gammo\\anaconda3\\lib\\site-packages\\statsmodels\\base\\model.py:566: ConvergenceWarning: Maximum Likelihood optimization failed to converge. Check mle_retvals\n",
      "  warnings.warn(\"Maximum Likelihood optimization failed to \"\n",
      "C:\\Users\\gammo\\anaconda3\\lib\\site-packages\\statsmodels\\base\\model.py:566: ConvergenceWarning: Maximum Likelihood optimization failed to converge. Check mle_retvals\n",
      "  warnings.warn(\"Maximum Likelihood optimization failed to \"\n",
      "C:\\Users\\gammo\\anaconda3\\lib\\site-packages\\statsmodels\\base\\model.py:566: ConvergenceWarning: Maximum Likelihood optimization failed to converge. Check mle_retvals\n",
      "  warnings.warn(\"Maximum Likelihood optimization failed to \"\n",
      "C:\\Users\\gammo\\anaconda3\\lib\\site-packages\\statsmodels\\base\\model.py:566: ConvergenceWarning: Maximum Likelihood optimization failed to converge. Check mle_retvals\n",
      "  warnings.warn(\"Maximum Likelihood optimization failed to \"\n"
     ]
    },
    {
     "name": "stdout",
     "output_type": "stream",
     "text": [
      "Warning: Maximum number of iterations has been exceeded.\n",
      "         Current function value: 0.353260\n",
      "         Iterations: 35\n",
      "         Function evaluations: 42\n",
      "         Gradient evaluations: 42\n",
      "Warning: Maximum number of iterations has been exceeded.\n",
      "         Current function value: 0.215473\n",
      "         Iterations: 35\n",
      "         Function evaluations: 39\n",
      "         Gradient evaluations: 39\n",
      "Warning: Maximum number of iterations has been exceeded.\n",
      "         Current function value: 0.029276\n",
      "         Iterations: 35\n",
      "         Function evaluations: 39\n",
      "         Gradient evaluations: 39\n",
      "Warning: Maximum number of iterations has been exceeded."
     ]
    },
    {
     "name": "stderr",
     "output_type": "stream",
     "text": [
      "C:\\Users\\gammo\\anaconda3\\lib\\site-packages\\statsmodels\\base\\model.py:547: HessianInversionWarning: Inverting hessian failed, no bse or cov_params available\n",
      "  warnings.warn('Inverting hessian failed, no bse or cov_params '\n",
      "C:\\Users\\gammo\\anaconda3\\lib\\site-packages\\statsmodels\\base\\model.py:566: ConvergenceWarning: Maximum Likelihood optimization failed to converge. Check mle_retvals\n",
      "  warnings.warn(\"Maximum Likelihood optimization failed to \"\n",
      "C:\\Users\\gammo\\anaconda3\\lib\\site-packages\\statsmodels\\base\\model.py:566: ConvergenceWarning: Maximum Likelihood optimization failed to converge. Check mle_retvals\n",
      "  warnings.warn(\"Maximum Likelihood optimization failed to \"\n",
      "C:\\Users\\gammo\\anaconda3\\lib\\site-packages\\statsmodels\\base\\model.py:566: ConvergenceWarning: Maximum Likelihood optimization failed to converge. Check mle_retvals\n",
      "  warnings.warn(\"Maximum Likelihood optimization failed to \"\n",
      "C:\\Users\\gammo\\anaconda3\\lib\\site-packages\\statsmodels\\base\\model.py:566: ConvergenceWarning: Maximum Likelihood optimization failed to converge. Check mle_retvals\n",
      "  warnings.warn(\"Maximum Likelihood optimization failed to \"\n",
      "C:\\Users\\gammo\\anaconda3\\lib\\site-packages\\statsmodels\\base\\model.py:547: HessianInversionWarning: Inverting hessian failed, no bse or cov_params available\n",
      "  warnings.warn('Inverting hessian failed, no bse or cov_params '\n",
      "C:\\Users\\gammo\\anaconda3\\lib\\site-packages\\statsmodels\\base\\model.py:566: ConvergenceWarning: Maximum Likelihood optimization failed to converge. Check mle_retvals\n",
      "  warnings.warn(\"Maximum Likelihood optimization failed to \"\n",
      "C:\\Users\\gammo\\anaconda3\\lib\\site-packages\\statsmodels\\base\\model.py:566: ConvergenceWarning: Maximum Likelihood optimization failed to converge. Check mle_retvals\n",
      "  warnings.warn(\"Maximum Likelihood optimization failed to \"\n",
      "C:\\Users\\gammo\\anaconda3\\lib\\site-packages\\statsmodels\\base\\model.py:566: ConvergenceWarning: Maximum Likelihood optimization failed to converge. Check mle_retvals\n",
      "  warnings.warn(\"Maximum Likelihood optimization failed to \"\n"
     ]
    },
    {
     "name": "stdout",
     "output_type": "stream",
     "text": [
      "\n",
      "         Current function value: 0.030246\n",
      "         Iterations: 35\n",
      "         Function evaluations: 36\n",
      "         Gradient evaluations: 36\n",
      "Warning: Maximum number of iterations has been exceeded.\n",
      "         Current function value: 0.174053\n",
      "         Iterations: 35\n",
      "         Function evaluations: 40\n",
      "         Gradient evaluations: 40\n",
      "Warning: Maximum number of iterations has been exceeded.\n",
      "         Current function value: 0.192846\n",
      "         Iterations: 35\n",
      "         Function evaluations: 38\n",
      "         Gradient evaluations: 38\n"
     ]
    },
    {
     "name": "stderr",
     "output_type": "stream",
     "text": [
      "C:\\Users\\gammo\\anaconda3\\lib\\site-packages\\statsmodels\\base\\model.py:566: ConvergenceWarning: Maximum Likelihood optimization failed to converge. Check mle_retvals\n",
      "  warnings.warn(\"Maximum Likelihood optimization failed to \"\n",
      "C:\\Users\\gammo\\anaconda3\\lib\\site-packages\\statsmodels\\base\\model.py:547: HessianInversionWarning: Inverting hessian failed, no bse or cov_params available\n",
      "  warnings.warn('Inverting hessian failed, no bse or cov_params '\n",
      "C:\\Users\\gammo\\anaconda3\\lib\\site-packages\\statsmodels\\base\\model.py:566: ConvergenceWarning: Maximum Likelihood optimization failed to converge. Check mle_retvals\n",
      "  warnings.warn(\"Maximum Likelihood optimization failed to \"\n",
      "C:\\Users\\gammo\\anaconda3\\lib\\site-packages\\statsmodels\\base\\model.py:566: ConvergenceWarning: Maximum Likelihood optimization failed to converge. Check mle_retvals\n",
      "  warnings.warn(\"Maximum Likelihood optimization failed to \"\n",
      "C:\\Users\\gammo\\anaconda3\\lib\\site-packages\\statsmodels\\base\\model.py:566: ConvergenceWarning: Maximum Likelihood optimization failed to converge. Check mle_retvals\n",
      "  warnings.warn(\"Maximum Likelihood optimization failed to \"\n",
      "C:\\Users\\gammo\\anaconda3\\lib\\site-packages\\statsmodels\\base\\model.py:566: ConvergenceWarning: Maximum Likelihood optimization failed to converge. Check mle_retvals\n",
      "  warnings.warn(\"Maximum Likelihood optimization failed to \"\n",
      "C:\\Users\\gammo\\anaconda3\\lib\\site-packages\\statsmodels\\base\\model.py:547: HessianInversionWarning: Inverting hessian failed, no bse or cov_params available\n",
      "  warnings.warn('Inverting hessian failed, no bse or cov_params '\n",
      "C:\\Users\\gammo\\anaconda3\\lib\\site-packages\\statsmodels\\base\\model.py:566: ConvergenceWarning: Maximum Likelihood optimization failed to converge. Check mle_retvals\n",
      "  warnings.warn(\"Maximum Likelihood optimization failed to \"\n",
      "C:\\Users\\gammo\\anaconda3\\lib\\site-packages\\statsmodels\\base\\model.py:566: ConvergenceWarning: Maximum Likelihood optimization failed to converge. Check mle_retvals\n",
      "  warnings.warn(\"Maximum Likelihood optimization failed to \"\n",
      "C:\\Users\\gammo\\anaconda3\\lib\\site-packages\\statsmodels\\base\\model.py:566: ConvergenceWarning: Maximum Likelihood optimization failed to converge. Check mle_retvals\n",
      "  warnings.warn(\"Maximum Likelihood optimization failed to \"\n"
     ]
    },
    {
     "name": "stdout",
     "output_type": "stream",
     "text": [
      "Warning: Maximum number of iterations has been exceeded.\n",
      "         Current function value: 0.093897\n",
      "         Iterations: 35\n",
      "         Function evaluations: 40\n",
      "         Gradient evaluations: 40\n",
      "Warning: Maximum number of iterations has been exceeded.\n",
      "         Current function value: 0.094004\n",
      "         Iterations: 35\n",
      "         Function evaluations: 37\n",
      "         Gradient evaluations: 37\n",
      "Warning: Maximum number of iterations has been exceeded.\n",
      "         Current function value: 0.115253\n",
      "         Iterations: 35\n",
      "         Function evaluations: 38\n",
      "         Gradient evaluations: 38\n",
      "Warning: Maximum number of iterations has been exceeded.\n",
      "         Current function value: 0.115067\n",
      "         Iterations: 35\n",
      "         Function evaluations: 37\n",
      "         Gradient evaluations: 37\n"
     ]
    },
    {
     "name": "stderr",
     "output_type": "stream",
     "text": [
      "C:\\Users\\gammo\\anaconda3\\lib\\site-packages\\statsmodels\\base\\model.py:566: ConvergenceWarning: Maximum Likelihood optimization failed to converge. Check mle_retvals\n",
      "  warnings.warn(\"Maximum Likelihood optimization failed to \"\n",
      "C:\\Users\\gammo\\anaconda3\\lib\\site-packages\\statsmodels\\base\\model.py:547: HessianInversionWarning: Inverting hessian failed, no bse or cov_params available\n",
      "  warnings.warn('Inverting hessian failed, no bse or cov_params '\n",
      "C:\\Users\\gammo\\anaconda3\\lib\\site-packages\\statsmodels\\base\\model.py:566: ConvergenceWarning: Maximum Likelihood optimization failed to converge. Check mle_retvals\n",
      "  warnings.warn(\"Maximum Likelihood optimization failed to \"\n",
      "C:\\Users\\gammo\\anaconda3\\lib\\site-packages\\statsmodels\\base\\model.py:566: ConvergenceWarning: Maximum Likelihood optimization failed to converge. Check mle_retvals\n",
      "  warnings.warn(\"Maximum Likelihood optimization failed to \"\n",
      "C:\\Users\\gammo\\anaconda3\\lib\\site-packages\\statsmodels\\base\\model.py:566: ConvergenceWarning: Maximum Likelihood optimization failed to converge. Check mle_retvals\n",
      "  warnings.warn(\"Maximum Likelihood optimization failed to \"\n",
      "C:\\Users\\gammo\\anaconda3\\lib\\site-packages\\statsmodels\\base\\model.py:566: ConvergenceWarning: Maximum Likelihood optimization failed to converge. Check mle_retvals\n",
      "  warnings.warn(\"Maximum Likelihood optimization failed to \"\n",
      "C:\\Users\\gammo\\anaconda3\\lib\\site-packages\\statsmodels\\base\\model.py:547: HessianInversionWarning: Inverting hessian failed, no bse or cov_params available\n",
      "  warnings.warn('Inverting hessian failed, no bse or cov_params '\n",
      "C:\\Users\\gammo\\anaconda3\\lib\\site-packages\\statsmodels\\base\\model.py:566: ConvergenceWarning: Maximum Likelihood optimization failed to converge. Check mle_retvals\n",
      "  warnings.warn(\"Maximum Likelihood optimization failed to \"\n",
      "C:\\Users\\gammo\\anaconda3\\lib\\site-packages\\statsmodels\\base\\model.py:566: ConvergenceWarning: Maximum Likelihood optimization failed to converge. Check mle_retvals\n",
      "  warnings.warn(\"Maximum Likelihood optimization failed to \"\n",
      "C:\\Users\\gammo\\anaconda3\\lib\\site-packages\\statsmodels\\base\\model.py:566: ConvergenceWarning: Maximum Likelihood optimization failed to converge. Check mle_retvals\n",
      "  warnings.warn(\"Maximum Likelihood optimization failed to \"\n"
     ]
    },
    {
     "name": "stdout",
     "output_type": "stream",
     "text": [
      "Warning: Maximum number of iterations has been exceeded.\n",
      "         Current function value: 0.067614\n",
      "         Iterations: 35\n",
      "         Function evaluations: 38\n",
      "         Gradient evaluations: 38\n",
      "Warning: Maximum number of iterations has been exceeded.\n",
      "         Current function value: 0.067606\n",
      "         Iterations: 35\n",
      "         Function evaluations: 37\n",
      "         Gradient evaluations: 37\n",
      "Warning: Maximum number of iterations has been exceeded.\n",
      "         Current function value: 0.065302\n",
      "         Iterations: 35\n",
      "         Function evaluations: 38\n",
      "         Gradient evaluations: 38\n",
      "Warning: Maximum number of iterations has been exceeded.\n",
      "         Current function value: 0.065647\n",
      "         Iterations: 35\n",
      "         Function evaluations: 37\n",
      "         Gradient evaluations: 37\n",
      "Warning: Maximum number of iterations has been exceeded.\n",
      "         Current function value: 0.038580\n",
      "         Iterations: 35\n",
      "         Function evaluations: 38\n",
      "         Gradient evaluations: 38\n",
      "Warning: Maximum number of iterations has been exceeded.\n",
      "         Current function value: 0.038765\n",
      "         Iterations: 35\n",
      "         Function evaluations: 37\n",
      "         Gradient evaluations: 37\n"
     ]
    },
    {
     "name": "stderr",
     "output_type": "stream",
     "text": [
      "C:\\Users\\gammo\\anaconda3\\lib\\site-packages\\statsmodels\\base\\model.py:566: ConvergenceWarning: Maximum Likelihood optimization failed to converge. Check mle_retvals\n",
      "  warnings.warn(\"Maximum Likelihood optimization failed to \"\n",
      "C:\\Users\\gammo\\anaconda3\\lib\\site-packages\\statsmodels\\base\\model.py:547: HessianInversionWarning: Inverting hessian failed, no bse or cov_params available\n",
      "  warnings.warn('Inverting hessian failed, no bse or cov_params '\n",
      "C:\\Users\\gammo\\anaconda3\\lib\\site-packages\\statsmodels\\base\\model.py:566: ConvergenceWarning: Maximum Likelihood optimization failed to converge. Check mle_retvals\n",
      "  warnings.warn(\"Maximum Likelihood optimization failed to \"\n",
      "C:\\Users\\gammo\\anaconda3\\lib\\site-packages\\statsmodels\\base\\model.py:566: ConvergenceWarning: Maximum Likelihood optimization failed to converge. Check mle_retvals\n",
      "  warnings.warn(\"Maximum Likelihood optimization failed to \"\n",
      "C:\\Users\\gammo\\anaconda3\\lib\\site-packages\\statsmodels\\base\\model.py:566: ConvergenceWarning: Maximum Likelihood optimization failed to converge. Check mle_retvals\n",
      "  warnings.warn(\"Maximum Likelihood optimization failed to \"\n"
     ]
    }
   ],
   "source": [
    "#create empty dictionaries to store model results and rsme for each species\n",
    "summary = {}\n",
    "rsme = {}\n",
    "\n",
    "#create for loop to go through 17 species and run zip using custom function from surfzone\n",
    "for i in species_list:\n",
    "    summary[i], rsme[i] = surfzone.zero_poisson(df_merge, i)"
   ]
  },
  {
   "cell_type": "code",
   "execution_count": 7,
   "metadata": {},
   "outputs": [
    {
     "data": {
      "text/plain": [
       "{'C. stigmaeus': 0.08333333333333333,\n",
       " 'H. caryi': 1.0,\n",
       " 'E. jacksoni': 1.7380544678845173,\n",
       " 'A. affinis': 0.0,\n",
       " 'C. biplicata': 258.1898526278676,\n",
       " 'E. analoga': 7.226974931924606,\n",
       " 'A. argenteus': 20.100269484097304,\n",
       " 'H. ellipticum': 6.128258770283412,\n",
       " 'C. gracilis': 7.865183475997943,\n",
       " 'H. argenteum': 11.14051664471227,\n",
       " 'P. vitulina': 0.18633899812498247,\n",
       " 'C. magister': 0.6066758241067098,\n",
       " 'O. elongatus': 0.16666666666666666,\n",
       " 'A. koelzi': 95.06503621790249,\n",
       " 'C. productus': 0.0,\n",
       " 'L. armatus': 1.4142135623730951,\n",
       " 'P. triserata': 0.26352313834736496}"
      ]
     },
     "execution_count": 7,
     "metadata": {},
     "output_type": "execute_result"
    }
   ],
   "source": [
    "#view RSME values for each species\n",
    "rsme"
   ]
  },
  {
   "cell_type": "markdown",
   "metadata": {},
   "source": [
    "#### *A. argenteus*"
   ]
  },
  {
   "cell_type": "code",
   "execution_count": 8,
   "metadata": {},
   "outputs": [
    {
     "name": "stdout",
     "output_type": "stream",
     "text": [
      "RSME = 20.100269484097304\n"
     ]
    },
    {
     "data": {
      "text/html": [
       "<table class=\"simpletable\">\n",
       "<caption>ZeroInflatedPoisson Regression Results</caption>\n",
       "<tr>\n",
       "  <th>Dep. Variable:</th>          <td>MaxN</td>         <th>  No. Observations:  </th>  <td>   157</td>  \n",
       "</tr>\n",
       "<tr>\n",
       "  <th>Model:</th>           <td>ZeroInflatedPoisson</td> <th>  Df Residuals:      </th>  <td>   149</td>  \n",
       "</tr>\n",
       "<tr>\n",
       "  <th>Method:</th>                  <td>MLE</td>         <th>  Df Model:          </th>  <td>     7</td>  \n",
       "</tr>\n",
       "<tr>\n",
       "  <th>Date:</th>             <td>Mon, 24 May 2021</td>   <th>  Pseudo R-squ.:     </th>  <td>0.3595</td>  \n",
       "</tr>\n",
       "<tr>\n",
       "  <th>Time:</th>                 <td>22:57:02</td>       <th>  Log-Likelihood:    </th> <td> -171.76</td> \n",
       "</tr>\n",
       "<tr>\n",
       "  <th>converged:</th>              <td>False</td>        <th>  LL-Null:           </th> <td> -268.18</td> \n",
       "</tr>\n",
       "<tr>\n",
       "  <th>Covariance Type:</th>      <td>nonrobust</td>      <th>  LLR p-value:       </th> <td>3.786e-38</td>\n",
       "</tr>\n",
       "</table>\n",
       "<table class=\"simpletable\">\n",
       "<tr>\n",
       "              <td></td>                <th>coef</th>     <th>std err</th>      <th>z</th>      <th>P>|z|</th>  <th>[0.025</th>    <th>0.975]</th>  \n",
       "</tr>\n",
       "<tr>\n",
       "  <th>inflate_Intercept</th>        <td>    0.2973</td> <td>    3.129</td> <td>    0.095</td> <td> 0.924</td> <td>   -5.835</td> <td>    6.430</td>\n",
       "</tr>\n",
       "<tr>\n",
       "  <th>inflate_Tide_height_ft</th>   <td>    0.4903</td> <td>    0.349</td> <td>    1.406</td> <td> 0.160</td> <td>   -0.193</td> <td>    1.174</td>\n",
       "</tr>\n",
       "<tr>\n",
       "  <th>inflate_Wind_Average_mph</th> <td>   -0.2689</td> <td>    0.108</td> <td>   -2.488</td> <td> 0.013</td> <td>   -0.481</td> <td>   -0.057</td>\n",
       "</tr>\n",
       "<tr>\n",
       "  <th>inflate_Depth_ft</th>         <td>   -0.0583</td> <td>    0.191</td> <td>   -0.305</td> <td> 0.760</td> <td>   -0.433</td> <td>    0.316</td>\n",
       "</tr>\n",
       "<tr>\n",
       "  <th>inflate_Visibility_ft</th>    <td>   -0.0576</td> <td>    0.135</td> <td>   -0.427</td> <td> 0.669</td> <td>   -0.322</td> <td>    0.207</td>\n",
       "</tr>\n",
       "<tr>\n",
       "  <th>inflate_Temp_C</th>           <td>    0.2816</td> <td>    0.198</td> <td>    1.423</td> <td> 0.155</td> <td>   -0.106</td> <td>    0.669</td>\n",
       "</tr>\n",
       "<tr>\n",
       "  <th>inflate_Breaker_Height_m</th> <td>   -1.3367</td> <td>    0.591</td> <td>   -2.263</td> <td> 0.024</td> <td>   -2.495</td> <td>   -0.179</td>\n",
       "</tr>\n",
       "<tr>\n",
       "  <th>inflate_Breaker_Period_s</th> <td>   -0.2052</td> <td>    0.072</td> <td>   -2.857</td> <td> 0.004</td> <td>   -0.346</td> <td>   -0.064</td>\n",
       "</tr>\n",
       "<tr>\n",
       "  <th>Intercept</th>                <td>   -3.6835</td> <td>    1.195</td> <td>   -3.084</td> <td> 0.002</td> <td>   -6.025</td> <td>   -1.342</td>\n",
       "</tr>\n",
       "<tr>\n",
       "  <th>Tide_height_ft</th>           <td>   -0.5519</td> <td>    0.142</td> <td>   -3.887</td> <td> 0.000</td> <td>   -0.830</td> <td>   -0.274</td>\n",
       "</tr>\n",
       "<tr>\n",
       "  <th>Wind_Average_mph</th>         <td>   -0.2030</td> <td>    0.031</td> <td>   -6.493</td> <td> 0.000</td> <td>   -0.264</td> <td>   -0.142</td>\n",
       "</tr>\n",
       "<tr>\n",
       "  <th>Depth_ft</th>                 <td>   -0.1549</td> <td>    0.074</td> <td>   -2.093</td> <td> 0.036</td> <td>   -0.300</td> <td>   -0.010</td>\n",
       "</tr>\n",
       "<tr>\n",
       "  <th>Visibility_ft</th>            <td>   -0.1853</td> <td>    0.051</td> <td>   -3.664</td> <td> 0.000</td> <td>   -0.284</td> <td>   -0.086</td>\n",
       "</tr>\n",
       "<tr>\n",
       "  <th>Temp_C</th>                   <td>    0.4746</td> <td>    0.065</td> <td>    7.286</td> <td> 0.000</td> <td>    0.347</td> <td>    0.602</td>\n",
       "</tr>\n",
       "<tr>\n",
       "  <th>Breaker_Height_m</th>         <td>    0.3052</td> <td>    0.263</td> <td>    1.159</td> <td> 0.247</td> <td>   -0.211</td> <td>    0.821</td>\n",
       "</tr>\n",
       "<tr>\n",
       "  <th>Breaker_Period_s</th>         <td>    0.1377</td> <td>    0.030</td> <td>    4.630</td> <td> 0.000</td> <td>    0.079</td> <td>    0.196</td>\n",
       "</tr>\n",
       "</table>"
      ],
      "text/plain": [
       "<class 'statsmodels.iolib.summary.Summary'>\n",
       "\"\"\"\n",
       "                     ZeroInflatedPoisson Regression Results                    \n",
       "===============================================================================\n",
       "Dep. Variable:                    MaxN   No. Observations:                  157\n",
       "Model:             ZeroInflatedPoisson   Df Residuals:                      149\n",
       "Method:                            MLE   Df Model:                            7\n",
       "Date:                 Mon, 24 May 2021   Pseudo R-squ.:                  0.3595\n",
       "Time:                         22:57:02   Log-Likelihood:                -171.76\n",
       "converged:                       False   LL-Null:                       -268.18\n",
       "Covariance Type:             nonrobust   LLR p-value:                 3.786e-38\n",
       "============================================================================================\n",
       "                               coef    std err          z      P>|z|      [0.025      0.975]\n",
       "--------------------------------------------------------------------------------------------\n",
       "inflate_Intercept            0.2973      3.129      0.095      0.924      -5.835       6.430\n",
       "inflate_Tide_height_ft       0.4903      0.349      1.406      0.160      -0.193       1.174\n",
       "inflate_Wind_Average_mph    -0.2689      0.108     -2.488      0.013      -0.481      -0.057\n",
       "inflate_Depth_ft            -0.0583      0.191     -0.305      0.760      -0.433       0.316\n",
       "inflate_Visibility_ft       -0.0576      0.135     -0.427      0.669      -0.322       0.207\n",
       "inflate_Temp_C               0.2816      0.198      1.423      0.155      -0.106       0.669\n",
       "inflate_Breaker_Height_m    -1.3367      0.591     -2.263      0.024      -2.495      -0.179\n",
       "inflate_Breaker_Period_s    -0.2052      0.072     -2.857      0.004      -0.346      -0.064\n",
       "Intercept                   -3.6835      1.195     -3.084      0.002      -6.025      -1.342\n",
       "Tide_height_ft              -0.5519      0.142     -3.887      0.000      -0.830      -0.274\n",
       "Wind_Average_mph            -0.2030      0.031     -6.493      0.000      -0.264      -0.142\n",
       "Depth_ft                    -0.1549      0.074     -2.093      0.036      -0.300      -0.010\n",
       "Visibility_ft               -0.1853      0.051     -3.664      0.000      -0.284      -0.086\n",
       "Temp_C                       0.4746      0.065      7.286      0.000       0.347       0.602\n",
       "Breaker_Height_m             0.3052      0.263      1.159      0.247      -0.211       0.821\n",
       "Breaker_Period_s             0.1377      0.030      4.630      0.000       0.079       0.196\n",
       "============================================================================================\n",
       "\"\"\""
      ]
     },
     "execution_count": 8,
     "metadata": {},
     "output_type": "execute_result"
    }
   ],
   "source": [
    "#create variable for A. argenteus (barred surfperch)\n",
    "species = 'A. argenteus'\n",
    "\n",
    "print(\"RSME =\", rsme[species])\n",
    "summary[species]"
   ]
  },
  {
   "cell_type": "markdown",
   "metadata": {},
   "source": [
    "#### *A. affinis*"
   ]
  },
  {
   "cell_type": "code",
   "execution_count": 9,
   "metadata": {},
   "outputs": [
    {
     "name": "stdout",
     "output_type": "stream",
     "text": [
      "RSME = 0.0\n"
     ]
    },
    {
     "data": {
      "text/html": [
       "<table class=\"simpletable\">\n",
       "<caption>ZeroInflatedPoisson Regression Results</caption>\n",
       "<tr>\n",
       "  <th>Dep. Variable:</th>          <td>MaxN</td>         <th>  No. Observations:  </th>  <td>   157</td> \n",
       "</tr>\n",
       "<tr>\n",
       "  <th>Model:</th>           <td>ZeroInflatedPoisson</td> <th>  Df Residuals:      </th>  <td>   149</td> \n",
       "</tr>\n",
       "<tr>\n",
       "  <th>Method:</th>                  <td>MLE</td>         <th>  Df Model:          </th>  <td>     7</td> \n",
       "</tr>\n",
       "<tr>\n",
       "  <th>Date:</th>             <td>Mon, 24 May 2021</td>   <th>  Pseudo R-squ.:     </th>  <td>0.3668</td> \n",
       "</tr>\n",
       "<tr>\n",
       "  <th>Time:</th>                 <td>22:57:02</td>       <th>  Log-Likelihood:    </th> <td> -12.406</td>\n",
       "</tr>\n",
       "<tr>\n",
       "  <th>converged:</th>              <td>False</td>        <th>  LL-Null:           </th> <td> -19.592</td>\n",
       "</tr>\n",
       "<tr>\n",
       "  <th>Covariance Type:</th>      <td>nonrobust</td>      <th>  LLR p-value:       </th>  <td>0.04495</td>\n",
       "</tr>\n",
       "</table>\n",
       "<table class=\"simpletable\">\n",
       "<tr>\n",
       "          <td></td>            <th>coef</th>     <th>std err</th>      <th>z</th>      <th>P>|z|</th>  <th>[0.025</th>    <th>0.975]</th>  \n",
       "</tr>\n",
       "<tr>\n",
       "  <th>inflate_const</th>    <td>   -5.0704</td> <td>    6.136</td> <td>   -0.826</td> <td> 0.409</td> <td>  -17.096</td> <td>    6.955</td>\n",
       "</tr>\n",
       "<tr>\n",
       "  <th>Intercept</th>        <td>   -3.9686</td> <td>    8.925</td> <td>   -0.445</td> <td> 0.657</td> <td>  -21.461</td> <td>   13.524</td>\n",
       "</tr>\n",
       "<tr>\n",
       "  <th>Tide_height_ft</th>   <td>   -0.5815</td> <td>    0.896</td> <td>   -0.649</td> <td> 0.516</td> <td>   -2.338</td> <td>    1.175</td>\n",
       "</tr>\n",
       "<tr>\n",
       "  <th>Wind_Average_mph</th> <td>    0.0609</td> <td>    0.194</td> <td>    0.315</td> <td> 0.753</td> <td>   -0.319</td> <td>    0.440</td>\n",
       "</tr>\n",
       "<tr>\n",
       "  <th>Depth_ft</th>         <td>    0.5890</td> <td>    0.568</td> <td>    1.037</td> <td> 0.300</td> <td>   -0.524</td> <td>    1.702</td>\n",
       "</tr>\n",
       "<tr>\n",
       "  <th>Visibility_ft</th>    <td>    0.2723</td> <td>    0.204</td> <td>    1.337</td> <td> 0.181</td> <td>   -0.127</td> <td>    0.671</td>\n",
       "</tr>\n",
       "<tr>\n",
       "  <th>Temp_C</th>           <td>   -0.3820</td> <td>    0.536</td> <td>   -0.713</td> <td> 0.476</td> <td>   -1.432</td> <td>    0.668</td>\n",
       "</tr>\n",
       "<tr>\n",
       "  <th>Breaker_Height_m</th> <td>   -0.7114</td> <td>    2.366</td> <td>   -0.301</td> <td> 0.764</td> <td>   -5.348</td> <td>    3.925</td>\n",
       "</tr>\n",
       "<tr>\n",
       "  <th>Breaker_Period_s</th> <td>    0.0879</td> <td>    0.266</td> <td>    0.331</td> <td> 0.741</td> <td>   -0.433</td> <td>    0.609</td>\n",
       "</tr>\n",
       "</table>"
      ],
      "text/plain": [
       "<class 'statsmodels.iolib.summary.Summary'>\n",
       "\"\"\"\n",
       "                     ZeroInflatedPoisson Regression Results                    \n",
       "===============================================================================\n",
       "Dep. Variable:                    MaxN   No. Observations:                  157\n",
       "Model:             ZeroInflatedPoisson   Df Residuals:                      149\n",
       "Method:                            MLE   Df Model:                            7\n",
       "Date:                 Mon, 24 May 2021   Pseudo R-squ.:                  0.3668\n",
       "Time:                         22:57:02   Log-Likelihood:                -12.406\n",
       "converged:                       False   LL-Null:                       -19.592\n",
       "Covariance Type:             nonrobust   LLR p-value:                   0.04495\n",
       "====================================================================================\n",
       "                       coef    std err          z      P>|z|      [0.025      0.975]\n",
       "------------------------------------------------------------------------------------\n",
       "inflate_const       -5.0704      6.136     -0.826      0.409     -17.096       6.955\n",
       "Intercept           -3.9686      8.925     -0.445      0.657     -21.461      13.524\n",
       "Tide_height_ft      -0.5815      0.896     -0.649      0.516      -2.338       1.175\n",
       "Wind_Average_mph     0.0609      0.194      0.315      0.753      -0.319       0.440\n",
       "Depth_ft             0.5890      0.568      1.037      0.300      -0.524       1.702\n",
       "Visibility_ft        0.2723      0.204      1.337      0.181      -0.127       0.671\n",
       "Temp_C              -0.3820      0.536     -0.713      0.476      -1.432       0.668\n",
       "Breaker_Height_m    -0.7114      2.366     -0.301      0.764      -5.348       3.925\n",
       "Breaker_Period_s     0.0879      0.266      0.331      0.741      -0.433       0.609\n",
       "====================================================================================\n",
       "\"\"\""
      ]
     },
     "execution_count": 9,
     "metadata": {},
     "output_type": "execute_result"
    }
   ],
   "source": [
    "#create variable for A. affinis (top smelt)\n",
    "species = 'A. affinis'\n",
    "\n",
    "print(\"RSME =\", rsme[species])\n",
    "summary[species]"
   ]
  },
  {
   "cell_type": "markdown",
   "metadata": {},
   "source": [
    "#### *A. koelzi*"
   ]
  },
  {
   "cell_type": "code",
   "execution_count": 10,
   "metadata": {},
   "outputs": [
    {
     "name": "stdout",
     "output_type": "stream",
     "text": [
      "RSME = 95.06503621790249\n"
     ]
    },
    {
     "data": {
      "text/html": [
       "<table class=\"simpletable\">\n",
       "<caption>ZeroInflatedPoisson Regression Results</caption>\n",
       "<tr>\n",
       "  <th>Dep. Variable:</th>          <td>MaxN</td>         <th>  No. Observations:  </th>  <td>   157</td> \n",
       "</tr>\n",
       "<tr>\n",
       "  <th>Model:</th>           <td>ZeroInflatedPoisson</td> <th>  Df Residuals:      </th>  <td>   149</td> \n",
       "</tr>\n",
       "<tr>\n",
       "  <th>Method:</th>                  <td>MLE</td>         <th>  Df Model:          </th>  <td>     7</td> \n",
       "</tr>\n",
       "<tr>\n",
       "  <th>Date:</th>             <td>Mon, 24 May 2021</td>   <th>  Pseudo R-squ.:     </th>  <td>0.3227</td> \n",
       "</tr>\n",
       "<tr>\n",
       "  <th>Time:</th>                 <td>22:57:03</td>       <th>  Log-Likelihood:    </th> <td> -18.066</td>\n",
       "</tr>\n",
       "<tr>\n",
       "  <th>converged:</th>              <td>False</td>        <th>  LL-Null:           </th> <td> -26.673</td>\n",
       "</tr>\n",
       "<tr>\n",
       "  <th>Covariance Type:</th>      <td>nonrobust</td>      <th>  LLR p-value:       </th>  <td>0.01606</td>\n",
       "</tr>\n",
       "</table>\n",
       "<table class=\"simpletable\">\n",
       "<tr>\n",
       "          <td></td>            <th>coef</th>     <th>std err</th>      <th>z</th>      <th>P>|z|</th>  <th>[0.025</th>    <th>0.975]</th>  \n",
       "</tr>\n",
       "<tr>\n",
       "  <th>inflate_const</th>    <td>   -0.3264</td> <td>    0.686</td> <td>   -0.476</td> <td> 0.634</td> <td>   -1.672</td> <td>    1.019</td>\n",
       "</tr>\n",
       "<tr>\n",
       "  <th>Intercept</th>        <td>   -2.8050</td> <td>    7.852</td> <td>   -0.357</td> <td> 0.721</td> <td>  -18.194</td> <td>   12.584</td>\n",
       "</tr>\n",
       "<tr>\n",
       "  <th>Tide_height_ft</th>   <td>    0.5367</td> <td>    0.993</td> <td>    0.540</td> <td> 0.589</td> <td>   -1.411</td> <td>    2.484</td>\n",
       "</tr>\n",
       "<tr>\n",
       "  <th>Wind_Average_mph</th> <td>   -0.0051</td> <td>    0.317</td> <td>   -0.016</td> <td> 0.987</td> <td>   -0.626</td> <td>    0.616</td>\n",
       "</tr>\n",
       "<tr>\n",
       "  <th>Depth_ft</th>         <td>    1.5097</td> <td>    0.863</td> <td>    1.749</td> <td> 0.080</td> <td>   -0.182</td> <td>    3.201</td>\n",
       "</tr>\n",
       "<tr>\n",
       "  <th>Visibility_ft</th>    <td>   -0.9770</td> <td>    0.561</td> <td>   -1.742</td> <td> 0.082</td> <td>   -2.076</td> <td>    0.122</td>\n",
       "</tr>\n",
       "<tr>\n",
       "  <th>Temp_C</th>           <td>   -0.2595</td> <td>    0.349</td> <td>   -0.745</td> <td> 0.457</td> <td>   -0.943</td> <td>    0.424</td>\n",
       "</tr>\n",
       "<tr>\n",
       "  <th>Breaker_Height_m</th> <td>   -3.0987</td> <td>    2.080</td> <td>   -1.489</td> <td> 0.136</td> <td>   -7.176</td> <td>    0.979</td>\n",
       "</tr>\n",
       "<tr>\n",
       "  <th>Breaker_Period_s</th> <td>   -0.3802</td> <td>    0.263</td> <td>   -1.446</td> <td> 0.148</td> <td>   -0.896</td> <td>    0.135</td>\n",
       "</tr>\n",
       "</table>"
      ],
      "text/plain": [
       "<class 'statsmodels.iolib.summary.Summary'>\n",
       "\"\"\"\n",
       "                     ZeroInflatedPoisson Regression Results                    \n",
       "===============================================================================\n",
       "Dep. Variable:                    MaxN   No. Observations:                  157\n",
       "Model:             ZeroInflatedPoisson   Df Residuals:                      149\n",
       "Method:                            MLE   Df Model:                            7\n",
       "Date:                 Mon, 24 May 2021   Pseudo R-squ.:                  0.3227\n",
       "Time:                         22:57:03   Log-Likelihood:                -18.066\n",
       "converged:                       False   LL-Null:                       -26.673\n",
       "Covariance Type:             nonrobust   LLR p-value:                   0.01606\n",
       "====================================================================================\n",
       "                       coef    std err          z      P>|z|      [0.025      0.975]\n",
       "------------------------------------------------------------------------------------\n",
       "inflate_const       -0.3264      0.686     -0.476      0.634      -1.672       1.019\n",
       "Intercept           -2.8050      7.852     -0.357      0.721     -18.194      12.584\n",
       "Tide_height_ft       0.5367      0.993      0.540      0.589      -1.411       2.484\n",
       "Wind_Average_mph    -0.0051      0.317     -0.016      0.987      -0.626       0.616\n",
       "Depth_ft             1.5097      0.863      1.749      0.080      -0.182       3.201\n",
       "Visibility_ft       -0.9770      0.561     -1.742      0.082      -2.076       0.122\n",
       "Temp_C              -0.2595      0.349     -0.745      0.457      -0.943       0.424\n",
       "Breaker_Height_m    -3.0987      2.080     -1.489      0.136      -7.176       0.979\n",
       "Breaker_Period_s    -0.3802      0.263     -1.446      0.148      -0.896       0.135\n",
       "====================================================================================\n",
       "\"\"\""
      ]
     },
     "execution_count": 10,
     "metadata": {},
     "output_type": "execute_result"
    }
   ],
   "source": [
    "#create variable for A. koelzi (Calico surfperch)\n",
    "species = 'A. koelzi'\n",
    "\n",
    "print(\"RSME =\", rsme[species])\n",
    "summary[species]"
   ]
  },
  {
   "cell_type": "markdown",
   "metadata": {},
   "source": [
    "#### *C. biplicata*"
   ]
  },
  {
   "cell_type": "code",
   "execution_count": 11,
   "metadata": {},
   "outputs": [
    {
     "name": "stdout",
     "output_type": "stream",
     "text": [
      "RSME = 258.1898526278676\n"
     ]
    },
    {
     "data": {
      "text/html": [
       "<table class=\"simpletable\">\n",
       "<caption>ZeroInflatedPoisson Regression Results</caption>\n",
       "<tr>\n",
       "  <th>Dep. Variable:</th>          <td>MaxN</td>         <th>  No. Observations:  </th>  <td>   157</td>  \n",
       "</tr>\n",
       "<tr>\n",
       "  <th>Model:</th>           <td>ZeroInflatedPoisson</td> <th>  Df Residuals:      </th>  <td>   149</td>  \n",
       "</tr>\n",
       "<tr>\n",
       "  <th>Method:</th>                  <td>MLE</td>         <th>  Df Model:          </th>  <td>     7</td>  \n",
       "</tr>\n",
       "<tr>\n",
       "  <th>Date:</th>             <td>Mon, 24 May 2021</td>   <th>  Pseudo R-squ.:     </th>  <td>0.3263</td>  \n",
       "</tr>\n",
       "<tr>\n",
       "  <th>Time:</th>                 <td>22:57:02</td>       <th>  Log-Likelihood:    </th> <td> -94.372</td> \n",
       "</tr>\n",
       "<tr>\n",
       "  <th>converged:</th>              <td>False</td>        <th>  LL-Null:           </th> <td> -140.08</td> \n",
       "</tr>\n",
       "<tr>\n",
       "  <th>Covariance Type:</th>      <td>nonrobust</td>      <th>  LLR p-value:       </th> <td>6.316e-17</td>\n",
       "</tr>\n",
       "</table>\n",
       "<table class=\"simpletable\">\n",
       "<tr>\n",
       "          <td></td>            <th>coef</th>     <th>std err</th>      <th>z</th>      <th>P>|z|</th>  <th>[0.025</th>    <th>0.975]</th>  \n",
       "</tr>\n",
       "<tr>\n",
       "  <th>inflate_const</th>    <td>    1.5820</td> <td>      nan</td> <td>      nan</td> <td>   nan</td> <td>      nan</td> <td>      nan</td>\n",
       "</tr>\n",
       "<tr>\n",
       "  <th>Intercept</th>        <td>   24.7332</td> <td>      nan</td> <td>      nan</td> <td>   nan</td> <td>      nan</td> <td>      nan</td>\n",
       "</tr>\n",
       "<tr>\n",
       "  <th>Tide_height_ft</th>   <td>   -0.6286</td> <td>      nan</td> <td>      nan</td> <td>   nan</td> <td>      nan</td> <td>      nan</td>\n",
       "</tr>\n",
       "<tr>\n",
       "  <th>Wind_Average_mph</th> <td>   -0.1985</td> <td>      nan</td> <td>      nan</td> <td>   nan</td> <td>      nan</td> <td>      nan</td>\n",
       "</tr>\n",
       "<tr>\n",
       "  <th>Depth_ft</th>         <td>    0.4291</td> <td>      nan</td> <td>      nan</td> <td>   nan</td> <td>      nan</td> <td>      nan</td>\n",
       "</tr>\n",
       "<tr>\n",
       "  <th>Visibility_ft</th>    <td>   -0.0867</td> <td>      nan</td> <td>      nan</td> <td>   nan</td> <td>      nan</td> <td>      nan</td>\n",
       "</tr>\n",
       "<tr>\n",
       "  <th>Temp_C</th>           <td>   -1.4797</td> <td>      nan</td> <td>      nan</td> <td>   nan</td> <td>      nan</td> <td>      nan</td>\n",
       "</tr>\n",
       "<tr>\n",
       "  <th>Breaker_Height_m</th> <td>   -2.9482</td> <td>      nan</td> <td>      nan</td> <td>   nan</td> <td>      nan</td> <td>      nan</td>\n",
       "</tr>\n",
       "<tr>\n",
       "  <th>Breaker_Period_s</th> <td>   -0.0331</td> <td>      nan</td> <td>      nan</td> <td>   nan</td> <td>      nan</td> <td>      nan</td>\n",
       "</tr>\n",
       "</table>"
      ],
      "text/plain": [
       "<class 'statsmodels.iolib.summary.Summary'>\n",
       "\"\"\"\n",
       "                     ZeroInflatedPoisson Regression Results                    \n",
       "===============================================================================\n",
       "Dep. Variable:                    MaxN   No. Observations:                  157\n",
       "Model:             ZeroInflatedPoisson   Df Residuals:                      149\n",
       "Method:                            MLE   Df Model:                            7\n",
       "Date:                 Mon, 24 May 2021   Pseudo R-squ.:                  0.3263\n",
       "Time:                         22:57:02   Log-Likelihood:                -94.372\n",
       "converged:                       False   LL-Null:                       -140.08\n",
       "Covariance Type:             nonrobust   LLR p-value:                 6.316e-17\n",
       "====================================================================================\n",
       "                       coef    std err          z      P>|z|      [0.025      0.975]\n",
       "------------------------------------------------------------------------------------\n",
       "inflate_const        1.5820        nan        nan        nan         nan         nan\n",
       "Intercept           24.7332        nan        nan        nan         nan         nan\n",
       "Tide_height_ft      -0.6286        nan        nan        nan         nan         nan\n",
       "Wind_Average_mph    -0.1985        nan        nan        nan         nan         nan\n",
       "Depth_ft             0.4291        nan        nan        nan         nan         nan\n",
       "Visibility_ft       -0.0867        nan        nan        nan         nan         nan\n",
       "Temp_C              -1.4797        nan        nan        nan         nan         nan\n",
       "Breaker_Height_m    -2.9482        nan        nan        nan         nan         nan\n",
       "Breaker_Period_s    -0.0331        nan        nan        nan         nan         nan\n",
       "====================================================================================\n",
       "\"\"\""
      ]
     },
     "execution_count": 11,
     "metadata": {},
     "output_type": "execute_result"
    }
   ],
   "source": [
    "#create variable for C. biplicata (Purple olive snail)\n",
    "species = 'C. biplicata'\n",
    "\n",
    "print(\"RSME =\", rsme[species])\n",
    "summary[species]\n"
   ]
  },
  {
   "cell_type": "markdown",
   "metadata": {},
   "source": [
    "#### *C. gracilis*"
   ]
  },
  {
   "cell_type": "code",
   "execution_count": 12,
   "metadata": {},
   "outputs": [
    {
     "name": "stdout",
     "output_type": "stream",
     "text": [
      "RSME = 7.865183475997943\n"
     ]
    },
    {
     "data": {
      "text/html": [
       "<table class=\"simpletable\">\n",
       "<caption>ZeroInflatedPoisson Regression Results</caption>\n",
       "<tr>\n",
       "  <th>Dep. Variable:</th>          <td>MaxN</td>         <th>  No. Observations:  </th>  <td>   157</td>  \n",
       "</tr>\n",
       "<tr>\n",
       "  <th>Model:</th>           <td>ZeroInflatedPoisson</td> <th>  Df Residuals:      </th>  <td>   149</td>  \n",
       "</tr>\n",
       "<tr>\n",
       "  <th>Method:</th>                  <td>MLE</td>         <th>  Df Model:          </th>  <td>     7</td>  \n",
       "</tr>\n",
       "<tr>\n",
       "  <th>Date:</th>             <td>Mon, 24 May 2021</td>   <th>  Pseudo R-squ.:     </th>  <td>0.3787</td>  \n",
       "</tr>\n",
       "<tr>\n",
       "  <th>Time:</th>                 <td>22:57:02</td>       <th>  Log-Likelihood:    </th> <td> -55.462</td> \n",
       "</tr>\n",
       "<tr>\n",
       "  <th>converged:</th>              <td>False</td>        <th>  LL-Null:           </th> <td> -89.263</td> \n",
       "</tr>\n",
       "<tr>\n",
       "  <th>Covariance Type:</th>      <td>nonrobust</td>      <th>  LLR p-value:       </th> <td>4.500e-12</td>\n",
       "</tr>\n",
       "</table>\n",
       "<table class=\"simpletable\">\n",
       "<tr>\n",
       "          <td></td>            <th>coef</th>     <th>std err</th>      <th>z</th>      <th>P>|z|</th>  <th>[0.025</th>    <th>0.975]</th>  \n",
       "</tr>\n",
       "<tr>\n",
       "  <th>inflate_const</th>    <td>   -6.3137</td> <td>      nan</td> <td>      nan</td> <td>   nan</td> <td>      nan</td> <td>      nan</td>\n",
       "</tr>\n",
       "<tr>\n",
       "  <th>Intercept</th>        <td>  -16.5910</td> <td>      nan</td> <td>      nan</td> <td>   nan</td> <td>      nan</td> <td>      nan</td>\n",
       "</tr>\n",
       "<tr>\n",
       "  <th>Tide_height_ft</th>   <td>   -2.0758</td> <td>      nan</td> <td>      nan</td> <td>   nan</td> <td>      nan</td> <td>      nan</td>\n",
       "</tr>\n",
       "<tr>\n",
       "  <th>Wind_Average_mph</th> <td>    0.0368</td> <td>      nan</td> <td>      nan</td> <td>   nan</td> <td>      nan</td> <td>      nan</td>\n",
       "</tr>\n",
       "<tr>\n",
       "  <th>Depth_ft</th>         <td>    0.5611</td> <td>      nan</td> <td>      nan</td> <td>   nan</td> <td>      nan</td> <td>      nan</td>\n",
       "</tr>\n",
       "<tr>\n",
       "  <th>Visibility_ft</th>    <td>    0.0271</td> <td>      nan</td> <td>      nan</td> <td>   nan</td> <td>      nan</td> <td>      nan</td>\n",
       "</tr>\n",
       "<tr>\n",
       "  <th>Temp_C</th>           <td>    0.6068</td> <td>      nan</td> <td>      nan</td> <td>   nan</td> <td>      nan</td> <td>      nan</td>\n",
       "</tr>\n",
       "<tr>\n",
       "  <th>Breaker_Height_m</th> <td>    4.6957</td> <td>      nan</td> <td>      nan</td> <td>   nan</td> <td>      nan</td> <td>      nan</td>\n",
       "</tr>\n",
       "<tr>\n",
       "  <th>Breaker_Period_s</th> <td>    0.0490</td> <td>      nan</td> <td>      nan</td> <td>   nan</td> <td>      nan</td> <td>      nan</td>\n",
       "</tr>\n",
       "</table>"
      ],
      "text/plain": [
       "<class 'statsmodels.iolib.summary.Summary'>\n",
       "\"\"\"\n",
       "                     ZeroInflatedPoisson Regression Results                    \n",
       "===============================================================================\n",
       "Dep. Variable:                    MaxN   No. Observations:                  157\n",
       "Model:             ZeroInflatedPoisson   Df Residuals:                      149\n",
       "Method:                            MLE   Df Model:                            7\n",
       "Date:                 Mon, 24 May 2021   Pseudo R-squ.:                  0.3787\n",
       "Time:                         22:57:02   Log-Likelihood:                -55.462\n",
       "converged:                       False   LL-Null:                       -89.263\n",
       "Covariance Type:             nonrobust   LLR p-value:                 4.500e-12\n",
       "====================================================================================\n",
       "                       coef    std err          z      P>|z|      [0.025      0.975]\n",
       "------------------------------------------------------------------------------------\n",
       "inflate_const       -6.3137        nan        nan        nan         nan         nan\n",
       "Intercept          -16.5910        nan        nan        nan         nan         nan\n",
       "Tide_height_ft      -2.0758        nan        nan        nan         nan         nan\n",
       "Wind_Average_mph     0.0368        nan        nan        nan         nan         nan\n",
       "Depth_ft             0.5611        nan        nan        nan         nan         nan\n",
       "Visibility_ft        0.0271        nan        nan        nan         nan         nan\n",
       "Temp_C               0.6068        nan        nan        nan         nan         nan\n",
       "Breaker_Height_m     4.6957        nan        nan        nan         nan         nan\n",
       "Breaker_Period_s     0.0490        nan        nan        nan         nan         nan\n",
       "====================================================================================\n",
       "\"\"\""
      ]
     },
     "execution_count": 12,
     "metadata": {},
     "output_type": "execute_result"
    }
   ],
   "source": [
    "#create variable for C. gracilis (Slender crab)\n",
    "species = 'C. gracilis'\n",
    "\n",
    "print(\"RSME =\", rsme[species])\n",
    "summary[species]"
   ]
  },
  {
   "cell_type": "markdown",
   "metadata": {},
   "source": [
    "#### *C. magister*"
   ]
  },
  {
   "cell_type": "code",
   "execution_count": 13,
   "metadata": {},
   "outputs": [
    {
     "name": "stdout",
     "output_type": "stream",
     "text": [
      "RSME = 0.6066758241067098\n"
     ]
    },
    {
     "data": {
      "text/html": [
       "<table class=\"simpletable\">\n",
       "<caption>ZeroInflatedPoisson Regression Results</caption>\n",
       "<tr>\n",
       "  <th>Dep. Variable:</th>          <td>MaxN</td>         <th>  No. Observations:  </th>  <td>   157</td> \n",
       "</tr>\n",
       "<tr>\n",
       "  <th>Model:</th>           <td>ZeroInflatedPoisson</td> <th>  Df Residuals:      </th>  <td>   149</td> \n",
       "</tr>\n",
       "<tr>\n",
       "  <th>Method:</th>                  <td>MLE</td>         <th>  Df Model:          </th>  <td>     7</td> \n",
       "</tr>\n",
       "<tr>\n",
       "  <th>Date:</th>             <td>Mon, 24 May 2021</td>   <th>  Pseudo R-squ.:     </th>  <td>0.1798</td> \n",
       "</tr>\n",
       "<tr>\n",
       "  <th>Time:</th>                 <td>22:57:03</td>       <th>  Log-Likelihood:    </th> <td> -30.277</td>\n",
       "</tr>\n",
       "<tr>\n",
       "  <th>converged:</th>              <td>False</td>        <th>  LL-Null:           </th> <td> -36.913</td>\n",
       "</tr>\n",
       "<tr>\n",
       "  <th>Covariance Type:</th>      <td>nonrobust</td>      <th>  LLR p-value:       </th>  <td>0.06573</td>\n",
       "</tr>\n",
       "</table>\n",
       "<table class=\"simpletable\">\n",
       "<tr>\n",
       "          <td></td>            <th>coef</th>     <th>std err</th>      <th>z</th>      <th>P>|z|</th>  <th>[0.025</th>    <th>0.975]</th>  \n",
       "</tr>\n",
       "<tr>\n",
       "  <th>inflate_const</th>    <td>   -6.2082</td> <td>    9.365</td> <td>   -0.663</td> <td> 0.507</td> <td>  -24.563</td> <td>   12.147</td>\n",
       "</tr>\n",
       "<tr>\n",
       "  <th>Intercept</th>        <td>   -2.4891</td> <td>    4.605</td> <td>   -0.541</td> <td> 0.589</td> <td>  -11.515</td> <td>    6.537</td>\n",
       "</tr>\n",
       "<tr>\n",
       "  <th>Tide_height_ft</th>   <td>   -0.7459</td> <td>    0.555</td> <td>   -1.344</td> <td> 0.179</td> <td>   -1.834</td> <td>    0.342</td>\n",
       "</tr>\n",
       "<tr>\n",
       "  <th>Wind_Average_mph</th> <td>    0.1247</td> <td>    0.098</td> <td>    1.268</td> <td> 0.205</td> <td>   -0.068</td> <td>    0.318</td>\n",
       "</tr>\n",
       "<tr>\n",
       "  <th>Depth_ft</th>         <td>    0.3730</td> <td>    0.253</td> <td>    1.474</td> <td> 0.141</td> <td>   -0.123</td> <td>    0.869</td>\n",
       "</tr>\n",
       "<tr>\n",
       "  <th>Visibility_ft</th>    <td>   -0.1540</td> <td>    0.154</td> <td>   -1.003</td> <td> 0.316</td> <td>   -0.455</td> <td>    0.147</td>\n",
       "</tr>\n",
       "<tr>\n",
       "  <th>Temp_C</th>           <td>   -0.2750</td> <td>    0.271</td> <td>   -1.015</td> <td> 0.310</td> <td>   -0.806</td> <td>    0.256</td>\n",
       "</tr>\n",
       "<tr>\n",
       "  <th>Breaker_Height_m</th> <td>    0.6346</td> <td>    0.956</td> <td>    0.664</td> <td> 0.507</td> <td>   -1.239</td> <td>    2.509</td>\n",
       "</tr>\n",
       "<tr>\n",
       "  <th>Breaker_Period_s</th> <td>    0.1943</td> <td>    0.113</td> <td>    1.721</td> <td> 0.085</td> <td>   -0.027</td> <td>    0.416</td>\n",
       "</tr>\n",
       "</table>"
      ],
      "text/plain": [
       "<class 'statsmodels.iolib.summary.Summary'>\n",
       "\"\"\"\n",
       "                     ZeroInflatedPoisson Regression Results                    \n",
       "===============================================================================\n",
       "Dep. Variable:                    MaxN   No. Observations:                  157\n",
       "Model:             ZeroInflatedPoisson   Df Residuals:                      149\n",
       "Method:                            MLE   Df Model:                            7\n",
       "Date:                 Mon, 24 May 2021   Pseudo R-squ.:                  0.1798\n",
       "Time:                         22:57:03   Log-Likelihood:                -30.277\n",
       "converged:                       False   LL-Null:                       -36.913\n",
       "Covariance Type:             nonrobust   LLR p-value:                   0.06573\n",
       "====================================================================================\n",
       "                       coef    std err          z      P>|z|      [0.025      0.975]\n",
       "------------------------------------------------------------------------------------\n",
       "inflate_const       -6.2082      9.365     -0.663      0.507     -24.563      12.147\n",
       "Intercept           -2.4891      4.605     -0.541      0.589     -11.515       6.537\n",
       "Tide_height_ft      -0.7459      0.555     -1.344      0.179      -1.834       0.342\n",
       "Wind_Average_mph     0.1247      0.098      1.268      0.205      -0.068       0.318\n",
       "Depth_ft             0.3730      0.253      1.474      0.141      -0.123       0.869\n",
       "Visibility_ft       -0.1540      0.154     -1.003      0.316      -0.455       0.147\n",
       "Temp_C              -0.2750      0.271     -1.015      0.310      -0.806       0.256\n",
       "Breaker_Height_m     0.6346      0.956      0.664      0.507      -1.239       2.509\n",
       "Breaker_Period_s     0.1943      0.113      1.721      0.085      -0.027       0.416\n",
       "====================================================================================\n",
       "\"\"\""
      ]
     },
     "execution_count": 13,
     "metadata": {},
     "output_type": "execute_result"
    }
   ],
   "source": [
    "#create variable for C. magister (Dungeness crab)\n",
    "species = 'C. magister'\n",
    "\n",
    "print(\"RSME =\", rsme[species])\n",
    "summary[species]"
   ]
  },
  {
   "cell_type": "markdown",
   "metadata": {},
   "source": [
    "#### *C. productus*"
   ]
  },
  {
   "cell_type": "code",
   "execution_count": 14,
   "metadata": {},
   "outputs": [
    {
     "name": "stdout",
     "output_type": "stream",
     "text": [
      "RSME = 0.0\n"
     ]
    },
    {
     "data": {
      "text/html": [
       "<table class=\"simpletable\">\n",
       "<caption>ZeroInflatedPoisson Regression Results</caption>\n",
       "<tr>\n",
       "  <th>Dep. Variable:</th>          <td>MaxN</td>         <th>  No. Observations:  </th>  <td>   157</td> \n",
       "</tr>\n",
       "<tr>\n",
       "  <th>Model:</th>           <td>ZeroInflatedPoisson</td> <th>  Df Residuals:      </th>  <td>   149</td> \n",
       "</tr>\n",
       "<tr>\n",
       "  <th>Method:</th>                  <td>MLE</td>         <th>  Df Model:          </th>  <td>     7</td> \n",
       "</tr>\n",
       "<tr>\n",
       "  <th>Date:</th>             <td>Mon, 24 May 2021</td>   <th>  Pseudo R-squ.:     </th>  <td>0.08846</td>\n",
       "</tr>\n",
       "<tr>\n",
       "  <th>Time:</th>                 <td>22:57:03</td>       <th>  Log-Likelihood:    </th> <td> -10.614</td>\n",
       "</tr>\n",
       "<tr>\n",
       "  <th>converged:</th>              <td>False</td>        <th>  LL-Null:           </th> <td> -11.644</td>\n",
       "</tr>\n",
       "<tr>\n",
       "  <th>Covariance Type:</th>      <td>nonrobust</td>      <th>  LLR p-value:       </th>  <td>0.9564</td> \n",
       "</tr>\n",
       "</table>\n",
       "<table class=\"simpletable\">\n",
       "<tr>\n",
       "          <td></td>            <th>coef</th>     <th>std err</th>      <th>z</th>      <th>P>|z|</th>  <th>[0.025</th>    <th>0.975]</th>  \n",
       "</tr>\n",
       "<tr>\n",
       "  <th>inflate_const</th>    <td>   -9.6184</td> <td>   39.029</td> <td>   -0.246</td> <td> 0.805</td> <td>  -86.113</td> <td>   66.877</td>\n",
       "</tr>\n",
       "<tr>\n",
       "  <th>Intercept</th>        <td>   -3.8966</td> <td>    8.366</td> <td>   -0.466</td> <td> 0.641</td> <td>  -20.294</td> <td>   12.501</td>\n",
       "</tr>\n",
       "<tr>\n",
       "  <th>Tide_height_ft</th>   <td>   -0.3750</td> <td>    1.021</td> <td>   -0.367</td> <td> 0.714</td> <td>   -2.377</td> <td>    1.627</td>\n",
       "</tr>\n",
       "<tr>\n",
       "  <th>Wind_Average_mph</th> <td>   -0.1051</td> <td>    0.240</td> <td>   -0.438</td> <td> 0.661</td> <td>   -0.575</td> <td>    0.365</td>\n",
       "</tr>\n",
       "<tr>\n",
       "  <th>Depth_ft</th>         <td>    0.1143</td> <td>    0.503</td> <td>    0.227</td> <td> 0.820</td> <td>   -0.871</td> <td>    1.100</td>\n",
       "</tr>\n",
       "<tr>\n",
       "  <th>Visibility_ft</th>    <td>    0.1449</td> <td>    0.226</td> <td>    0.642</td> <td> 0.521</td> <td>   -0.298</td> <td>    0.587</td>\n",
       "</tr>\n",
       "<tr>\n",
       "  <th>Temp_C</th>           <td>   -0.0854</td> <td>    0.490</td> <td>   -0.174</td> <td> 0.862</td> <td>   -1.046</td> <td>    0.875</td>\n",
       "</tr>\n",
       "<tr>\n",
       "  <th>Breaker_Height_m</th> <td>    1.4108</td> <td>    1.743</td> <td>    0.810</td> <td> 0.418</td> <td>   -2.005</td> <td>    4.827</td>\n",
       "</tr>\n",
       "<tr>\n",
       "  <th>Breaker_Period_s</th> <td>   -0.1085</td> <td>    0.279</td> <td>   -0.389</td> <td> 0.697</td> <td>   -0.655</td> <td>    0.438</td>\n",
       "</tr>\n",
       "</table>"
      ],
      "text/plain": [
       "<class 'statsmodels.iolib.summary.Summary'>\n",
       "\"\"\"\n",
       "                     ZeroInflatedPoisson Regression Results                    \n",
       "===============================================================================\n",
       "Dep. Variable:                    MaxN   No. Observations:                  157\n",
       "Model:             ZeroInflatedPoisson   Df Residuals:                      149\n",
       "Method:                            MLE   Df Model:                            7\n",
       "Date:                 Mon, 24 May 2021   Pseudo R-squ.:                 0.08846\n",
       "Time:                         22:57:03   Log-Likelihood:                -10.614\n",
       "converged:                       False   LL-Null:                       -11.644\n",
       "Covariance Type:             nonrobust   LLR p-value:                    0.9564\n",
       "====================================================================================\n",
       "                       coef    std err          z      P>|z|      [0.025      0.975]\n",
       "------------------------------------------------------------------------------------\n",
       "inflate_const       -9.6184     39.029     -0.246      0.805     -86.113      66.877\n",
       "Intercept           -3.8966      8.366     -0.466      0.641     -20.294      12.501\n",
       "Tide_height_ft      -0.3750      1.021     -0.367      0.714      -2.377       1.627\n",
       "Wind_Average_mph    -0.1051      0.240     -0.438      0.661      -0.575       0.365\n",
       "Depth_ft             0.1143      0.503      0.227      0.820      -0.871       1.100\n",
       "Visibility_ft        0.1449      0.226      0.642      0.521      -0.298       0.587\n",
       "Temp_C              -0.0854      0.490     -0.174      0.862      -1.046       0.875\n",
       "Breaker_Height_m     1.4108      1.743      0.810      0.418      -2.005       4.827\n",
       "Breaker_Period_s    -0.1085      0.279     -0.389      0.697      -0.655       0.438\n",
       "====================================================================================\n",
       "\"\"\""
      ]
     },
     "execution_count": 14,
     "metadata": {},
     "output_type": "execute_result"
    }
   ],
   "source": [
    "#create variable for C. producuts (Red rock crab)\n",
    "species = 'C. productus'\n",
    "\n",
    "print(\"RSME =\", rsme[species])\n",
    "summary[species]"
   ]
  },
  {
   "cell_type": "markdown",
   "metadata": {},
   "source": [
    "#### *C. stigmaeus*"
   ]
  },
  {
   "cell_type": "code",
   "execution_count": 15,
   "metadata": {},
   "outputs": [
    {
     "name": "stdout",
     "output_type": "stream",
     "text": [
      "RSME = 0.08333333333333333\n"
     ]
    },
    {
     "data": {
      "text/html": [
       "<table class=\"simpletable\">\n",
       "<caption>ZeroInflatedPoisson Regression Results</caption>\n",
       "<tr>\n",
       "  <th>Dep. Variable:</th>          <td>MaxN</td>         <th>  No. Observations:  </th>  <td>   157</td> \n",
       "</tr>\n",
       "<tr>\n",
       "  <th>Model:</th>           <td>ZeroInflatedPoisson</td> <th>  Df Residuals:      </th>  <td>   149</td> \n",
       "</tr>\n",
       "<tr>\n",
       "  <th>Method:</th>                  <td>MLE</td>         <th>  Df Model:          </th>  <td>     7</td> \n",
       "</tr>\n",
       "<tr>\n",
       "  <th>Date:</th>             <td>Mon, 24 May 2021</td>   <th>  Pseudo R-squ.:     </th>  <td>0.1478</td> \n",
       "</tr>\n",
       "<tr>\n",
       "  <th>Time:</th>                 <td>22:57:01</td>       <th>  Log-Likelihood:    </th> <td> -59.299</td>\n",
       "</tr>\n",
       "<tr>\n",
       "  <th>converged:</th>              <td>False</td>        <th>  LL-Null:           </th> <td> -69.580</td>\n",
       "</tr>\n",
       "<tr>\n",
       "  <th>Covariance Type:</th>      <td>nonrobust</td>      <th>  LLR p-value:       </th> <td>0.004475</td>\n",
       "</tr>\n",
       "</table>\n",
       "<table class=\"simpletable\">\n",
       "<tr>\n",
       "          <td></td>            <th>coef</th>     <th>std err</th>      <th>z</th>      <th>P>|z|</th>  <th>[0.025</th>    <th>0.975]</th>  \n",
       "</tr>\n",
       "<tr>\n",
       "  <th>inflate_const</th>    <td>  -12.8884</td> <td>  217.498</td> <td>   -0.059</td> <td> 0.953</td> <td> -439.177</td> <td>  413.400</td>\n",
       "</tr>\n",
       "<tr>\n",
       "  <th>Intercept</th>        <td>   -5.8946</td> <td>    2.841</td> <td>   -2.075</td> <td> 0.038</td> <td>  -11.463</td> <td>   -0.327</td>\n",
       "</tr>\n",
       "<tr>\n",
       "  <th>Tide_height_ft</th>   <td>   -0.0041</td> <td>    0.325</td> <td>   -0.012</td> <td> 0.990</td> <td>   -0.640</td> <td>    0.632</td>\n",
       "</tr>\n",
       "<tr>\n",
       "  <th>Wind_Average_mph</th> <td>    0.1112</td> <td>    0.069</td> <td>    1.617</td> <td> 0.106</td> <td>   -0.024</td> <td>    0.246</td>\n",
       "</tr>\n",
       "<tr>\n",
       "  <th>Depth_ft</th>         <td>    0.3234</td> <td>    0.177</td> <td>    1.831</td> <td> 0.067</td> <td>   -0.023</td> <td>    0.670</td>\n",
       "</tr>\n",
       "<tr>\n",
       "  <th>Visibility_ft</th>    <td>    0.0769</td> <td>    0.075</td> <td>    1.027</td> <td> 0.304</td> <td>   -0.070</td> <td>    0.224</td>\n",
       "</tr>\n",
       "<tr>\n",
       "  <th>Temp_C</th>           <td>   -0.0075</td> <td>    0.159</td> <td>   -0.048</td> <td> 0.962</td> <td>   -0.318</td> <td>    0.303</td>\n",
       "</tr>\n",
       "<tr>\n",
       "  <th>Breaker_Height_m</th> <td>    1.4061</td> <td>    0.626</td> <td>    2.247</td> <td> 0.025</td> <td>    0.180</td> <td>    2.632</td>\n",
       "</tr>\n",
       "<tr>\n",
       "  <th>Breaker_Period_s</th> <td>   -0.0658</td> <td>    0.075</td> <td>   -0.873</td> <td> 0.383</td> <td>   -0.213</td> <td>    0.082</td>\n",
       "</tr>\n",
       "</table>"
      ],
      "text/plain": [
       "<class 'statsmodels.iolib.summary.Summary'>\n",
       "\"\"\"\n",
       "                     ZeroInflatedPoisson Regression Results                    \n",
       "===============================================================================\n",
       "Dep. Variable:                    MaxN   No. Observations:                  157\n",
       "Model:             ZeroInflatedPoisson   Df Residuals:                      149\n",
       "Method:                            MLE   Df Model:                            7\n",
       "Date:                 Mon, 24 May 2021   Pseudo R-squ.:                  0.1478\n",
       "Time:                         22:57:01   Log-Likelihood:                -59.299\n",
       "converged:                       False   LL-Null:                       -69.580\n",
       "Covariance Type:             nonrobust   LLR p-value:                  0.004475\n",
       "====================================================================================\n",
       "                       coef    std err          z      P>|z|      [0.025      0.975]\n",
       "------------------------------------------------------------------------------------\n",
       "inflate_const      -12.8884    217.498     -0.059      0.953    -439.177     413.400\n",
       "Intercept           -5.8946      2.841     -2.075      0.038     -11.463      -0.327\n",
       "Tide_height_ft      -0.0041      0.325     -0.012      0.990      -0.640       0.632\n",
       "Wind_Average_mph     0.1112      0.069      1.617      0.106      -0.024       0.246\n",
       "Depth_ft             0.3234      0.177      1.831      0.067      -0.023       0.670\n",
       "Visibility_ft        0.0769      0.075      1.027      0.304      -0.070       0.224\n",
       "Temp_C              -0.0075      0.159     -0.048      0.962      -0.318       0.303\n",
       "Breaker_Height_m     1.4061      0.626      2.247      0.025       0.180       2.632\n",
       "Breaker_Period_s    -0.0658      0.075     -0.873      0.383      -0.213       0.082\n",
       "====================================================================================\n",
       "\"\"\""
      ]
     },
     "execution_count": 15,
     "metadata": {},
     "output_type": "execute_result"
    }
   ],
   "source": [
    "#create variable for C. stigmaeus (Speckled sanddab)\n",
    "species = 'C. stigmaeus'\n",
    "\n",
    "print(\"RSME =\", rsme[species])\n",
    "summary[species]"
   ]
  },
  {
   "cell_type": "markdown",
   "metadata": {},
   "source": [
    "#### *E. analoga*"
   ]
  },
  {
   "cell_type": "code",
   "execution_count": 16,
   "metadata": {},
   "outputs": [
    {
     "name": "stdout",
     "output_type": "stream",
     "text": [
      "RSME = 7.226974931924606\n"
     ]
    },
    {
     "data": {
      "text/html": [
       "<table class=\"simpletable\">\n",
       "<caption>ZeroInflatedPoisson Regression Results</caption>\n",
       "<tr>\n",
       "  <th>Dep. Variable:</th>          <td>MaxN</td>         <th>  No. Observations:  </th>  <td>   157</td>  \n",
       "</tr>\n",
       "<tr>\n",
       "  <th>Model:</th>           <td>ZeroInflatedPoisson</td> <th>  Df Residuals:      </th>  <td>   149</td>  \n",
       "</tr>\n",
       "<tr>\n",
       "  <th>Method:</th>                  <td>MLE</td>         <th>  Df Model:          </th>  <td>     7</td>  \n",
       "</tr>\n",
       "<tr>\n",
       "  <th>Date:</th>             <td>Mon, 24 May 2021</td>   <th>  Pseudo R-squ.:     </th>  <td>0.1823</td>  \n",
       "</tr>\n",
       "<tr>\n",
       "  <th>Time:</th>                 <td>22:57:02</td>       <th>  Log-Likelihood:    </th> <td> -91.928</td> \n",
       "</tr>\n",
       "<tr>\n",
       "  <th>converged:</th>              <td>False</td>        <th>  LL-Null:           </th> <td> -112.42</td> \n",
       "</tr>\n",
       "<tr>\n",
       "  <th>Covariance Type:</th>      <td>nonrobust</td>      <th>  LLR p-value:       </th> <td>8.169e-07</td>\n",
       "</tr>\n",
       "</table>\n",
       "<table class=\"simpletable\">\n",
       "<tr>\n",
       "          <td></td>            <th>coef</th>     <th>std err</th>      <th>z</th>      <th>P>|z|</th>  <th>[0.025</th>    <th>0.975]</th>  \n",
       "</tr>\n",
       "<tr>\n",
       "  <th>inflate_const</th>    <td>    0.1576</td> <td>    0.295</td> <td>    0.535</td> <td> 0.593</td> <td>   -0.420</td> <td>    0.735</td>\n",
       "</tr>\n",
       "<tr>\n",
       "  <th>Intercept</th>        <td>    8.2304</td> <td>    3.517</td> <td>    2.340</td> <td> 0.019</td> <td>    1.337</td> <td>   15.124</td>\n",
       "</tr>\n",
       "<tr>\n",
       "  <th>Tide_height_ft</th>   <td>    1.1258</td> <td>    0.452</td> <td>    2.493</td> <td> 0.013</td> <td>    0.241</td> <td>    2.011</td>\n",
       "</tr>\n",
       "<tr>\n",
       "  <th>Wind_Average_mph</th> <td>    0.0292</td> <td>    0.089</td> <td>    0.329</td> <td> 0.742</td> <td>   -0.145</td> <td>    0.203</td>\n",
       "</tr>\n",
       "<tr>\n",
       "  <th>Depth_ft</th>         <td>    0.5572</td> <td>    0.232</td> <td>    2.400</td> <td> 0.016</td> <td>    0.102</td> <td>    1.012</td>\n",
       "</tr>\n",
       "<tr>\n",
       "  <th>Visibility_ft</th>    <td>    0.0801</td> <td>    0.118</td> <td>    0.680</td> <td> 0.496</td> <td>   -0.151</td> <td>    0.311</td>\n",
       "</tr>\n",
       "<tr>\n",
       "  <th>Temp_C</th>           <td>   -1.0190</td> <td>    0.255</td> <td>   -3.993</td> <td> 0.000</td> <td>   -1.519</td> <td>   -0.519</td>\n",
       "</tr>\n",
       "<tr>\n",
       "  <th>Breaker_Height_m</th> <td>   -0.7661</td> <td>    0.728</td> <td>   -1.052</td> <td> 0.293</td> <td>   -2.194</td> <td>    0.662</td>\n",
       "</tr>\n",
       "<tr>\n",
       "  <th>Breaker_Period_s</th> <td>   -0.1287</td> <td>    0.084</td> <td>   -1.524</td> <td> 0.127</td> <td>   -0.294</td> <td>    0.037</td>\n",
       "</tr>\n",
       "</table>"
      ],
      "text/plain": [
       "<class 'statsmodels.iolib.summary.Summary'>\n",
       "\"\"\"\n",
       "                     ZeroInflatedPoisson Regression Results                    \n",
       "===============================================================================\n",
       "Dep. Variable:                    MaxN   No. Observations:                  157\n",
       "Model:             ZeroInflatedPoisson   Df Residuals:                      149\n",
       "Method:                            MLE   Df Model:                            7\n",
       "Date:                 Mon, 24 May 2021   Pseudo R-squ.:                  0.1823\n",
       "Time:                         22:57:02   Log-Likelihood:                -91.928\n",
       "converged:                       False   LL-Null:                       -112.42\n",
       "Covariance Type:             nonrobust   LLR p-value:                 8.169e-07\n",
       "====================================================================================\n",
       "                       coef    std err          z      P>|z|      [0.025      0.975]\n",
       "------------------------------------------------------------------------------------\n",
       "inflate_const        0.1576      0.295      0.535      0.593      -0.420       0.735\n",
       "Intercept            8.2304      3.517      2.340      0.019       1.337      15.124\n",
       "Tide_height_ft       1.1258      0.452      2.493      0.013       0.241       2.011\n",
       "Wind_Average_mph     0.0292      0.089      0.329      0.742      -0.145       0.203\n",
       "Depth_ft             0.5572      0.232      2.400      0.016       0.102       1.012\n",
       "Visibility_ft        0.0801      0.118      0.680      0.496      -0.151       0.311\n",
       "Temp_C              -1.0190      0.255     -3.993      0.000      -1.519      -0.519\n",
       "Breaker_Height_m    -0.7661      0.728     -1.052      0.293      -2.194       0.662\n",
       "Breaker_Period_s    -0.1287      0.084     -1.524      0.127      -0.294       0.037\n",
       "====================================================================================\n",
       "\"\"\""
      ]
     },
     "execution_count": 16,
     "metadata": {},
     "output_type": "execute_result"
    }
   ],
   "source": [
    "#create variable for E. analoga (sandcrab)\n",
    "species = 'E. analoga'\n",
    "\n",
    "print(\"RSME =\", rsme[species])\n",
    "summary[species]"
   ]
  },
  {
   "cell_type": "markdown",
   "metadata": {},
   "source": [
    "#### *E. jacksoni*"
   ]
  },
  {
   "cell_type": "code",
   "execution_count": 17,
   "metadata": {},
   "outputs": [
    {
     "name": "stdout",
     "output_type": "stream",
     "text": [
      "RSME = 1.7380544678845173\n"
     ]
    },
    {
     "data": {
      "text/html": [
       "<table class=\"simpletable\">\n",
       "<caption>ZeroInflatedPoisson Regression Results</caption>\n",
       "<tr>\n",
       "  <th>Dep. Variable:</th>          <td>MaxN</td>         <th>  No. Observations:  </th>  <td>   157</td> \n",
       "</tr>\n",
       "<tr>\n",
       "  <th>Model:</th>           <td>ZeroInflatedPoisson</td> <th>  Df Residuals:      </th>  <td>   149</td> \n",
       "</tr>\n",
       "<tr>\n",
       "  <th>Method:</th>                  <td>MLE</td>         <th>  Df Model:          </th>  <td>     7</td> \n",
       "</tr>\n",
       "<tr>\n",
       "  <th>Date:</th>             <td>Mon, 24 May 2021</td>   <th>  Pseudo R-squ.:     </th>  <td>0.1733</td> \n",
       "</tr>\n",
       "<tr>\n",
       "  <th>Time:</th>                 <td>22:57:02</td>       <th>  Log-Likelihood:    </th> <td> -36.764</td>\n",
       "</tr>\n",
       "<tr>\n",
       "  <th>converged:</th>              <td>False</td>        <th>  LL-Null:           </th> <td> -44.473</td>\n",
       "</tr>\n",
       "<tr>\n",
       "  <th>Covariance Type:</th>      <td>nonrobust</td>      <th>  LLR p-value:       </th>  <td>0.03099</td>\n",
       "</tr>\n",
       "</table>\n",
       "<table class=\"simpletable\">\n",
       "<tr>\n",
       "          <td></td>            <th>coef</th>     <th>std err</th>      <th>z</th>      <th>P>|z|</th>  <th>[0.025</th>    <th>0.975]</th>  \n",
       "</tr>\n",
       "<tr>\n",
       "  <th>inflate_const</th>    <td>  -19.6187</td> <td> 4332.774</td> <td>   -0.005</td> <td> 0.996</td> <td>-8511.699</td> <td> 8472.462</td>\n",
       "</tr>\n",
       "<tr>\n",
       "  <th>Intercept</th>        <td>    0.2480</td> <td>    3.176</td> <td>    0.078</td> <td> 0.938</td> <td>   -5.978</td> <td>    6.474</td>\n",
       "</tr>\n",
       "<tr>\n",
       "  <th>Tide_height_ft</th>   <td>    0.3616</td> <td>    0.376</td> <td>    0.961</td> <td> 0.336</td> <td>   -0.376</td> <td>    1.099</td>\n",
       "</tr>\n",
       "<tr>\n",
       "  <th>Wind_Average_mph</th> <td>   -0.2870</td> <td>    0.178</td> <td>   -1.615</td> <td> 0.106</td> <td>   -0.635</td> <td>    0.061</td>\n",
       "</tr>\n",
       "<tr>\n",
       "  <th>Depth_ft</th>         <td>   -0.5470</td> <td>    0.292</td> <td>   -1.877</td> <td> 0.061</td> <td>   -1.118</td> <td>    0.024</td>\n",
       "</tr>\n",
       "<tr>\n",
       "  <th>Visibility_ft</th>    <td>    0.0573</td> <td>    0.101</td> <td>    0.569</td> <td> 0.569</td> <td>   -0.140</td> <td>    0.255</td>\n",
       "</tr>\n",
       "<tr>\n",
       "  <th>Temp_C</th>           <td>    0.1255</td> <td>    0.180</td> <td>    0.699</td> <td> 0.485</td> <td>   -0.226</td> <td>    0.478</td>\n",
       "</tr>\n",
       "<tr>\n",
       "  <th>Breaker_Height_m</th> <td>   -0.5894</td> <td>    0.711</td> <td>   -0.829</td> <td> 0.407</td> <td>   -1.983</td> <td>    0.804</td>\n",
       "</tr>\n",
       "<tr>\n",
       "  <th>Breaker_Period_s</th> <td>   -0.1337</td> <td>    0.113</td> <td>   -1.179</td> <td> 0.238</td> <td>   -0.356</td> <td>    0.089</td>\n",
       "</tr>\n",
       "</table>"
      ],
      "text/plain": [
       "<class 'statsmodels.iolib.summary.Summary'>\n",
       "\"\"\"\n",
       "                     ZeroInflatedPoisson Regression Results                    \n",
       "===============================================================================\n",
       "Dep. Variable:                    MaxN   No. Observations:                  157\n",
       "Model:             ZeroInflatedPoisson   Df Residuals:                      149\n",
       "Method:                            MLE   Df Model:                            7\n",
       "Date:                 Mon, 24 May 2021   Pseudo R-squ.:                  0.1733\n",
       "Time:                         22:57:02   Log-Likelihood:                -36.764\n",
       "converged:                       False   LL-Null:                       -44.473\n",
       "Covariance Type:             nonrobust   LLR p-value:                   0.03099\n",
       "====================================================================================\n",
       "                       coef    std err          z      P>|z|      [0.025      0.975]\n",
       "------------------------------------------------------------------------------------\n",
       "inflate_const      -19.6187   4332.774     -0.005      0.996   -8511.699    8472.462\n",
       "Intercept            0.2480      3.176      0.078      0.938      -5.978       6.474\n",
       "Tide_height_ft       0.3616      0.376      0.961      0.336      -0.376       1.099\n",
       "Wind_Average_mph    -0.2870      0.178     -1.615      0.106      -0.635       0.061\n",
       "Depth_ft            -0.5470      0.292     -1.877      0.061      -1.118       0.024\n",
       "Visibility_ft        0.0573      0.101      0.569      0.569      -0.140       0.255\n",
       "Temp_C               0.1255      0.180      0.699      0.485      -0.226       0.478\n",
       "Breaker_Height_m    -0.5894      0.711     -0.829      0.407      -1.983       0.804\n",
       "Breaker_Period_s    -0.1337      0.113     -1.179      0.238      -0.356       0.089\n",
       "====================================================================================\n",
       "\"\"\""
      ]
     },
     "execution_count": 17,
     "metadata": {},
     "output_type": "execute_result"
    }
   ],
   "source": [
    "#create variable for E. jacksoni (Black surfpearch)\n",
    "species = 'E. jacksoni'\n",
    "\n",
    "print(\"RSME =\", rsme[species])\n",
    "summary[species]"
   ]
  },
  {
   "cell_type": "markdown",
   "metadata": {},
   "source": [
    "#### *H. argenteum*"
   ]
  },
  {
   "cell_type": "code",
   "execution_count": 18,
   "metadata": {},
   "outputs": [
    {
     "name": "stdout",
     "output_type": "stream",
     "text": [
      "RSME = 11.14051664471227\n"
     ]
    },
    {
     "data": {
      "text/html": [
       "<table class=\"simpletable\">\n",
       "<caption>ZeroInflatedPoisson Regression Results</caption>\n",
       "<tr>\n",
       "  <th>Dep. Variable:</th>          <td>MaxN</td>         <th>  No. Observations:  </th>  <td>   157</td>  \n",
       "</tr>\n",
       "<tr>\n",
       "  <th>Model:</th>           <td>ZeroInflatedPoisson</td> <th>  Df Residuals:      </th>  <td>   149</td>  \n",
       "</tr>\n",
       "<tr>\n",
       "  <th>Method:</th>                  <td>MLE</td>         <th>  Df Model:          </th>  <td>     7</td>  \n",
       "</tr>\n",
       "<tr>\n",
       "  <th>Date:</th>             <td>Mon, 24 May 2021</td>   <th>  Pseudo R-squ.:     </th>  <td>0.6162</td>  \n",
       "</tr>\n",
       "<tr>\n",
       "  <th>Time:</th>                 <td>22:57:02</td>       <th>  Log-Likelihood:    </th> <td> -33.829</td> \n",
       "</tr>\n",
       "<tr>\n",
       "  <th>converged:</th>              <td>False</td>        <th>  LL-Null:           </th> <td> -88.149</td> \n",
       "</tr>\n",
       "<tr>\n",
       "  <th>Covariance Type:</th>      <td>nonrobust</td>      <th>  LLR p-value:       </th> <td>1.758e-20</td>\n",
       "</tr>\n",
       "</table>\n",
       "<table class=\"simpletable\">\n",
       "<tr>\n",
       "              <td></td>                <th>coef</th>     <th>std err</th>      <th>z</th>      <th>P>|z|</th>  <th>[0.025</th>    <th>0.975]</th>  \n",
       "</tr>\n",
       "<tr>\n",
       "  <th>inflate_Intercept</th>        <td>   -0.1743</td> <td>    9.534</td> <td>   -0.018</td> <td> 0.985</td> <td>  -18.860</td> <td>   18.511</td>\n",
       "</tr>\n",
       "<tr>\n",
       "  <th>inflate_Tide_height_ft</th>   <td>   -5.7988</td> <td>    2.989</td> <td>   -1.940</td> <td> 0.052</td> <td>  -11.656</td> <td>    0.059</td>\n",
       "</tr>\n",
       "<tr>\n",
       "  <th>inflate_Wind_Average_mph</th> <td>    0.3268</td> <td>    0.506</td> <td>    0.646</td> <td> 0.518</td> <td>   -0.664</td> <td>    1.318</td>\n",
       "</tr>\n",
       "<tr>\n",
       "  <th>inflate_Depth_ft</th>         <td>   -0.8642</td> <td>    0.838</td> <td>   -1.031</td> <td> 0.303</td> <td>   -2.507</td> <td>    0.779</td>\n",
       "</tr>\n",
       "<tr>\n",
       "  <th>inflate_Visibility_ft</th>    <td>    0.6888</td> <td>    0.490</td> <td>    1.404</td> <td> 0.160</td> <td>   -0.272</td> <td>    1.650</td>\n",
       "</tr>\n",
       "<tr>\n",
       "  <th>inflate_Temp_C</th>           <td>    0.8200</td> <td>    0.671</td> <td>    1.223</td> <td> 0.221</td> <td>   -0.494</td> <td>    2.134</td>\n",
       "</tr>\n",
       "<tr>\n",
       "  <th>inflate_Breaker_Height_m</th> <td>   -5.4902</td> <td>    2.805</td> <td>   -1.957</td> <td> 0.050</td> <td>  -10.987</td> <td>    0.007</td>\n",
       "</tr>\n",
       "<tr>\n",
       "  <th>inflate_Breaker_Period_s</th> <td>    0.2489</td> <td>    0.388</td> <td>    0.642</td> <td> 0.521</td> <td>   -0.511</td> <td>    1.009</td>\n",
       "</tr>\n",
       "<tr>\n",
       "  <th>Intercept</th>                <td>   -3.0482</td> <td>    3.924</td> <td>   -0.777</td> <td> 0.437</td> <td>  -10.739</td> <td>    4.643</td>\n",
       "</tr>\n",
       "<tr>\n",
       "  <th>Tide_height_ft</th>           <td>   -2.6359</td> <td>    0.535</td> <td>   -4.931</td> <td> 0.000</td> <td>   -3.683</td> <td>   -1.588</td>\n",
       "</tr>\n",
       "<tr>\n",
       "  <th>Wind_Average_mph</th>         <td>   -0.2108</td> <td>    0.111</td> <td>   -1.895</td> <td> 0.058</td> <td>   -0.429</td> <td>    0.007</td>\n",
       "</tr>\n",
       "<tr>\n",
       "  <th>Depth_ft</th>                 <td>   -0.8132</td> <td>    0.238</td> <td>   -3.416</td> <td> 0.001</td> <td>   -1.280</td> <td>   -0.347</td>\n",
       "</tr>\n",
       "<tr>\n",
       "  <th>Visibility_ft</th>            <td>    0.1976</td> <td>    0.178</td> <td>    1.113</td> <td> 0.266</td> <td>   -0.150</td> <td>    0.546</td>\n",
       "</tr>\n",
       "<tr>\n",
       "  <th>Temp_C</th>                   <td>    0.4675</td> <td>    0.203</td> <td>    2.300</td> <td> 0.021</td> <td>    0.069</td> <td>    0.866</td>\n",
       "</tr>\n",
       "<tr>\n",
       "  <th>Breaker_Height_m</th>         <td>    1.4669</td> <td>    0.671</td> <td>    2.187</td> <td> 0.029</td> <td>    0.152</td> <td>    2.782</td>\n",
       "</tr>\n",
       "<tr>\n",
       "  <th>Breaker_Period_s</th>         <td>    0.3709</td> <td>    0.115</td> <td>    3.231</td> <td> 0.001</td> <td>    0.146</td> <td>    0.596</td>\n",
       "</tr>\n",
       "</table>"
      ],
      "text/plain": [
       "<class 'statsmodels.iolib.summary.Summary'>\n",
       "\"\"\"\n",
       "                     ZeroInflatedPoisson Regression Results                    \n",
       "===============================================================================\n",
       "Dep. Variable:                    MaxN   No. Observations:                  157\n",
       "Model:             ZeroInflatedPoisson   Df Residuals:                      149\n",
       "Method:                            MLE   Df Model:                            7\n",
       "Date:                 Mon, 24 May 2021   Pseudo R-squ.:                  0.6162\n",
       "Time:                         22:57:02   Log-Likelihood:                -33.829\n",
       "converged:                       False   LL-Null:                       -88.149\n",
       "Covariance Type:             nonrobust   LLR p-value:                 1.758e-20\n",
       "============================================================================================\n",
       "                               coef    std err          z      P>|z|      [0.025      0.975]\n",
       "--------------------------------------------------------------------------------------------\n",
       "inflate_Intercept           -0.1743      9.534     -0.018      0.985     -18.860      18.511\n",
       "inflate_Tide_height_ft      -5.7988      2.989     -1.940      0.052     -11.656       0.059\n",
       "inflate_Wind_Average_mph     0.3268      0.506      0.646      0.518      -0.664       1.318\n",
       "inflate_Depth_ft            -0.8642      0.838     -1.031      0.303      -2.507       0.779\n",
       "inflate_Visibility_ft        0.6888      0.490      1.404      0.160      -0.272       1.650\n",
       "inflate_Temp_C               0.8200      0.671      1.223      0.221      -0.494       2.134\n",
       "inflate_Breaker_Height_m    -5.4902      2.805     -1.957      0.050     -10.987       0.007\n",
       "inflate_Breaker_Period_s     0.2489      0.388      0.642      0.521      -0.511       1.009\n",
       "Intercept                   -3.0482      3.924     -0.777      0.437     -10.739       4.643\n",
       "Tide_height_ft              -2.6359      0.535     -4.931      0.000      -3.683      -1.588\n",
       "Wind_Average_mph            -0.2108      0.111     -1.895      0.058      -0.429       0.007\n",
       "Depth_ft                    -0.8132      0.238     -3.416      0.001      -1.280      -0.347\n",
       "Visibility_ft                0.1976      0.178      1.113      0.266      -0.150       0.546\n",
       "Temp_C                       0.4675      0.203      2.300      0.021       0.069       0.866\n",
       "Breaker_Height_m             1.4669      0.671      2.187      0.029       0.152       2.782\n",
       "Breaker_Period_s             0.3709      0.115      3.231      0.001       0.146       0.596\n",
       "============================================================================================\n",
       "\"\"\""
      ]
     },
     "execution_count": 18,
     "metadata": {},
     "output_type": "execute_result"
    }
   ],
   "source": [
    "#create variable for H. argenteum (Walleye surfpearch)\n",
    "species = 'H. argenteum'\n",
    "\n",
    "print(\"RSME =\", rsme[species])\n",
    "summary[species]"
   ]
  },
  {
   "cell_type": "markdown",
   "metadata": {},
   "source": [
    "#### *H. caryi*"
   ]
  },
  {
   "cell_type": "code",
   "execution_count": 19,
   "metadata": {},
   "outputs": [
    {
     "name": "stdout",
     "output_type": "stream",
     "text": [
      "RSME = 1.0\n"
     ]
    },
    {
     "data": {
      "text/html": [
       "<table class=\"simpletable\">\n",
       "<caption>ZeroInflatedPoisson Regression Results</caption>\n",
       "<tr>\n",
       "  <th>Dep. Variable:</th>          <td>MaxN</td>         <th>  No. Observations:  </th>  <td>   157</td>  \n",
       "</tr>\n",
       "<tr>\n",
       "  <th>Model:</th>           <td>ZeroInflatedPoisson</td> <th>  Df Residuals:      </th>  <td>   149</td>  \n",
       "</tr>\n",
       "<tr>\n",
       "  <th>Method:</th>                  <td>MLE</td>         <th>  Df Model:          </th>  <td>     7</td>  \n",
       "</tr>\n",
       "<tr>\n",
       "  <th>Date:</th>             <td>Mon, 24 May 2021</td>   <th>  Pseudo R-squ.:     </th>  <td>0.3151</td>  \n",
       "</tr>\n",
       "<tr>\n",
       "  <th>Time:</th>                 <td>22:57:01</td>       <th>  Log-Likelihood:    </th> <td> -28.724</td> \n",
       "</tr>\n",
       "<tr>\n",
       "  <th>converged:</th>              <td>False</td>        <th>  LL-Null:           </th> <td> -41.940</td> \n",
       "</tr>\n",
       "<tr>\n",
       "  <th>Covariance Type:</th>      <td>nonrobust</td>      <th>  LLR p-value:       </th> <td>0.0004216</td>\n",
       "</tr>\n",
       "</table>\n",
       "<table class=\"simpletable\">\n",
       "<tr>\n",
       "          <td></td>            <th>coef</th>     <th>std err</th>      <th>z</th>      <th>P>|z|</th>  <th>[0.025</th>    <th>0.975]</th>  \n",
       "</tr>\n",
       "<tr>\n",
       "  <th>inflate_const</th>    <td>   -3.6279</td> <td>    3.158</td> <td>   -1.149</td> <td> 0.251</td> <td>   -9.818</td> <td>    2.562</td>\n",
       "</tr>\n",
       "<tr>\n",
       "  <th>Intercept</th>        <td>    1.0436</td> <td>    3.561</td> <td>    0.293</td> <td> 0.769</td> <td>   -5.936</td> <td>    8.023</td>\n",
       "</tr>\n",
       "<tr>\n",
       "  <th>Tide_height_ft</th>   <td>    1.0188</td> <td>    0.592</td> <td>    1.721</td> <td> 0.085</td> <td>   -0.142</td> <td>    2.179</td>\n",
       "</tr>\n",
       "<tr>\n",
       "  <th>Wind_Average_mph</th> <td>    0.0787</td> <td>    0.085</td> <td>    0.925</td> <td> 0.355</td> <td>   -0.088</td> <td>    0.245</td>\n",
       "</tr>\n",
       "<tr>\n",
       "  <th>Depth_ft</th>         <td>   -0.7972</td> <td>    0.426</td> <td>   -1.869</td> <td> 0.062</td> <td>   -1.633</td> <td>    0.039</td>\n",
       "</tr>\n",
       "<tr>\n",
       "  <th>Visibility_ft</th>    <td>    0.1334</td> <td>    0.125</td> <td>    1.070</td> <td> 0.285</td> <td>   -0.111</td> <td>    0.378</td>\n",
       "</tr>\n",
       "<tr>\n",
       "  <th>Temp_C</th>           <td>    0.0869</td> <td>    0.232</td> <td>    0.375</td> <td> 0.708</td> <td>   -0.368</td> <td>    0.541</td>\n",
       "</tr>\n",
       "<tr>\n",
       "  <th>Breaker_Height_m</th> <td>   -4.1045</td> <td>    1.683</td> <td>   -2.439</td> <td> 0.015</td> <td>   -7.403</td> <td>   -0.806</td>\n",
       "</tr>\n",
       "<tr>\n",
       "  <th>Breaker_Period_s</th> <td>   -0.1850</td> <td>    0.184</td> <td>   -1.008</td> <td> 0.314</td> <td>   -0.545</td> <td>    0.175</td>\n",
       "</tr>\n",
       "</table>"
      ],
      "text/plain": [
       "<class 'statsmodels.iolib.summary.Summary'>\n",
       "\"\"\"\n",
       "                     ZeroInflatedPoisson Regression Results                    \n",
       "===============================================================================\n",
       "Dep. Variable:                    MaxN   No. Observations:                  157\n",
       "Model:             ZeroInflatedPoisson   Df Residuals:                      149\n",
       "Method:                            MLE   Df Model:                            7\n",
       "Date:                 Mon, 24 May 2021   Pseudo R-squ.:                  0.3151\n",
       "Time:                         22:57:01   Log-Likelihood:                -28.724\n",
       "converged:                       False   LL-Null:                       -41.940\n",
       "Covariance Type:             nonrobust   LLR p-value:                 0.0004216\n",
       "====================================================================================\n",
       "                       coef    std err          z      P>|z|      [0.025      0.975]\n",
       "------------------------------------------------------------------------------------\n",
       "inflate_const       -3.6279      3.158     -1.149      0.251      -9.818       2.562\n",
       "Intercept            1.0436      3.561      0.293      0.769      -5.936       8.023\n",
       "Tide_height_ft       1.0188      0.592      1.721      0.085      -0.142       2.179\n",
       "Wind_Average_mph     0.0787      0.085      0.925      0.355      -0.088       0.245\n",
       "Depth_ft            -0.7972      0.426     -1.869      0.062      -1.633       0.039\n",
       "Visibility_ft        0.1334      0.125      1.070      0.285      -0.111       0.378\n",
       "Temp_C               0.0869      0.232      0.375      0.708      -0.368       0.541\n",
       "Breaker_Height_m    -4.1045      1.683     -2.439      0.015      -7.403      -0.806\n",
       "Breaker_Period_s    -0.1850      0.184     -1.008      0.314      -0.545       0.175\n",
       "====================================================================================\n",
       "\"\"\""
      ]
     },
     "execution_count": 19,
     "metadata": {},
     "output_type": "execute_result"
    }
   ],
   "source": [
    "#create variable for H. caryi (Rainbow surfpearch)\n",
    "species = 'H. caryi'\n",
    "\n",
    "print(\"RSME =\", rsme[species])\n",
    "summary[species]"
   ]
  },
  {
   "cell_type": "markdown",
   "metadata": {},
   "source": [
    "#### *H. ellipticum*"
   ]
  },
  {
   "cell_type": "code",
   "execution_count": 20,
   "metadata": {},
   "outputs": [
    {
     "name": "stdout",
     "output_type": "stream",
     "text": [
      "RSME = 6.128258770283412\n"
     ]
    },
    {
     "data": {
      "text/html": [
       "<table class=\"simpletable\">\n",
       "<caption>ZeroInflatedPoisson Regression Results</caption>\n",
       "<tr>\n",
       "  <th>Dep. Variable:</th>          <td>MaxN</td>         <th>  No. Observations:  </th>  <td>   157</td>  \n",
       "</tr>\n",
       "<tr>\n",
       "  <th>Model:</th>           <td>ZeroInflatedPoisson</td> <th>  Df Residuals:      </th>  <td>   149</td>  \n",
       "</tr>\n",
       "<tr>\n",
       "  <th>Method:</th>                  <td>MLE</td>         <th>  Df Model:          </th>  <td>     7</td>  \n",
       "</tr>\n",
       "<tr>\n",
       "  <th>Date:</th>             <td>Mon, 24 May 2021</td>   <th>  Pseudo R-squ.:     </th>  <td>0.3174</td>  \n",
       "</tr>\n",
       "<tr>\n",
       "  <th>Time:</th>                 <td>22:57:02</td>       <th>  Log-Likelihood:    </th> <td> -61.939</td> \n",
       "</tr>\n",
       "<tr>\n",
       "  <th>converged:</th>              <td>False</td>        <th>  LL-Null:           </th> <td> -90.743</td> \n",
       "</tr>\n",
       "<tr>\n",
       "  <th>Covariance Type:</th>      <td>nonrobust</td>      <th>  LLR p-value:       </th> <td>4.527e-10</td>\n",
       "</tr>\n",
       "</table>\n",
       "<table class=\"simpletable\">\n",
       "<tr>\n",
       "          <td></td>            <th>coef</th>     <th>std err</th>      <th>z</th>      <th>P>|z|</th>  <th>[0.025</th>    <th>0.975]</th>  \n",
       "</tr>\n",
       "<tr>\n",
       "  <th>inflate_const</th>    <td>   -0.4312</td> <td>    0.417</td> <td>   -1.033</td> <td> 0.301</td> <td>   -1.249</td> <td>    0.387</td>\n",
       "</tr>\n",
       "<tr>\n",
       "  <th>Intercept</th>        <td>   -1.2911</td> <td>    3.030</td> <td>   -0.426</td> <td> 0.670</td> <td>   -7.229</td> <td>    4.647</td>\n",
       "</tr>\n",
       "<tr>\n",
       "  <th>Tide_height_ft</th>   <td>    0.8979</td> <td>    0.483</td> <td>    1.861</td> <td> 0.063</td> <td>   -0.048</td> <td>    1.844</td>\n",
       "</tr>\n",
       "<tr>\n",
       "  <th>Wind_Average_mph</th> <td>    0.1332</td> <td>    0.080</td> <td>    1.668</td> <td> 0.095</td> <td>   -0.023</td> <td>    0.290</td>\n",
       "</tr>\n",
       "<tr>\n",
       "  <th>Depth_ft</th>         <td>   -0.8993</td> <td>    0.229</td> <td>   -3.927</td> <td> 0.000</td> <td>   -1.348</td> <td>   -0.450</td>\n",
       "</tr>\n",
       "<tr>\n",
       "  <th>Visibility_ft</th>    <td>    0.1440</td> <td>    0.103</td> <td>    1.403</td> <td> 0.161</td> <td>   -0.057</td> <td>    0.345</td>\n",
       "</tr>\n",
       "<tr>\n",
       "  <th>Temp_C</th>           <td>    0.0773</td> <td>    0.165</td> <td>    0.467</td> <td> 0.640</td> <td>   -0.247</td> <td>    0.402</td>\n",
       "</tr>\n",
       "<tr>\n",
       "  <th>Breaker_Height_m</th> <td>    3.0099</td> <td>    0.735</td> <td>    4.097</td> <td> 0.000</td> <td>    1.570</td> <td>    4.450</td>\n",
       "</tr>\n",
       "<tr>\n",
       "  <th>Breaker_Period_s</th> <td>   -0.2630</td> <td>    0.091</td> <td>   -2.888</td> <td> 0.004</td> <td>   -0.442</td> <td>   -0.085</td>\n",
       "</tr>\n",
       "</table>"
      ],
      "text/plain": [
       "<class 'statsmodels.iolib.summary.Summary'>\n",
       "\"\"\"\n",
       "                     ZeroInflatedPoisson Regression Results                    \n",
       "===============================================================================\n",
       "Dep. Variable:                    MaxN   No. Observations:                  157\n",
       "Model:             ZeroInflatedPoisson   Df Residuals:                      149\n",
       "Method:                            MLE   Df Model:                            7\n",
       "Date:                 Mon, 24 May 2021   Pseudo R-squ.:                  0.3174\n",
       "Time:                         22:57:02   Log-Likelihood:                -61.939\n",
       "converged:                       False   LL-Null:                       -90.743\n",
       "Covariance Type:             nonrobust   LLR p-value:                 4.527e-10\n",
       "====================================================================================\n",
       "                       coef    std err          z      P>|z|      [0.025      0.975]\n",
       "------------------------------------------------------------------------------------\n",
       "inflate_const       -0.4312      0.417     -1.033      0.301      -1.249       0.387\n",
       "Intercept           -1.2911      3.030     -0.426      0.670      -7.229       4.647\n",
       "Tide_height_ft       0.8979      0.483      1.861      0.063      -0.048       1.844\n",
       "Wind_Average_mph     0.1332      0.080      1.668      0.095      -0.023       0.290\n",
       "Depth_ft            -0.8993      0.229     -3.927      0.000      -1.348      -0.450\n",
       "Visibility_ft        0.1440      0.103      1.403      0.161      -0.057       0.345\n",
       "Temp_C               0.0773      0.165      0.467      0.640      -0.247       0.402\n",
       "Breaker_Height_m     3.0099      0.735      4.097      0.000       1.570       4.450\n",
       "Breaker_Period_s    -0.2630      0.091     -2.888      0.004      -0.442      -0.085\n",
       "====================================================================================\n",
       "\"\"\""
      ]
     },
     "execution_count": 20,
     "metadata": {},
     "output_type": "execute_result"
    }
   ],
   "source": [
    "#create variable for H. ellipticum (Silver surfpearch)\n",
    "species = 'H. ellipticum'\n",
    "\n",
    "print(\"RSME =\", rsme[species])\n",
    "summary[species]"
   ]
  },
  {
   "cell_type": "markdown",
   "metadata": {},
   "source": [
    "#### *L. armatus*"
   ]
  },
  {
   "cell_type": "code",
   "execution_count": 21,
   "metadata": {},
   "outputs": [
    {
     "name": "stdout",
     "output_type": "stream",
     "text": [
      "RSME = 1.4142135623730951\n"
     ]
    },
    {
     "data": {
      "text/html": [
       "<table class=\"simpletable\">\n",
       "<caption>ZeroInflatedPoisson Regression Results</caption>\n",
       "<tr>\n",
       "  <th>Dep. Variable:</th>          <td>MaxN</td>         <th>  No. Observations:  </th>  <td>   157</td> \n",
       "</tr>\n",
       "<tr>\n",
       "  <th>Model:</th>           <td>ZeroInflatedPoisson</td> <th>  Df Residuals:      </th>  <td>   149</td> \n",
       "</tr>\n",
       "<tr>\n",
       "  <th>Method:</th>                  <td>MLE</td>         <th>  Df Model:          </th>  <td>     7</td> \n",
       "</tr>\n",
       "<tr>\n",
       "  <th>Date:</th>             <td>Mon, 24 May 2021</td>   <th>  Pseudo R-squ.:     </th>  <td>0.3525</td> \n",
       "</tr>\n",
       "<tr>\n",
       "  <th>Time:</th>                 <td>22:57:03</td>       <th>  Log-Likelihood:    </th> <td> -10.307</td>\n",
       "</tr>\n",
       "<tr>\n",
       "  <th>converged:</th>              <td>False</td>        <th>  LL-Null:           </th> <td> -15.918</td>\n",
       "</tr>\n",
       "<tr>\n",
       "  <th>Covariance Type:</th>      <td>nonrobust</td>      <th>  LLR p-value:       </th>  <td>0.1292</td> \n",
       "</tr>\n",
       "</table>\n",
       "<table class=\"simpletable\">\n",
       "<tr>\n",
       "          <td></td>            <th>coef</th>     <th>std err</th>      <th>z</th>      <th>P>|z|</th>  <th>[0.025</th>    <th>0.975]</th>  \n",
       "</tr>\n",
       "<tr>\n",
       "  <th>inflate_const</th>    <td>   -4.9304</td> <td>    4.481</td> <td>   -1.100</td> <td> 0.271</td> <td>  -13.713</td> <td>    3.852</td>\n",
       "</tr>\n",
       "<tr>\n",
       "  <th>Intercept</th>        <td>   -3.9485</td> <td>    9.419</td> <td>   -0.419</td> <td> 0.675</td> <td>  -22.409</td> <td>   14.512</td>\n",
       "</tr>\n",
       "<tr>\n",
       "  <th>Tide_height_ft</th>   <td>   -2.7404</td> <td>    1.102</td> <td>   -2.486</td> <td> 0.013</td> <td>   -4.901</td> <td>   -0.580</td>\n",
       "</tr>\n",
       "<tr>\n",
       "  <th>Wind_Average_mph</th> <td>    0.0873</td> <td>    0.226</td> <td>    0.387</td> <td> 0.699</td> <td>   -0.355</td> <td>    0.530</td>\n",
       "</tr>\n",
       "<tr>\n",
       "  <th>Depth_ft</th>         <td>    0.8710</td> <td>    0.595</td> <td>    1.463</td> <td> 0.143</td> <td>   -0.296</td> <td>    2.038</td>\n",
       "</tr>\n",
       "<tr>\n",
       "  <th>Visibility_ft</th>    <td>   -0.2257</td> <td>    0.243</td> <td>   -0.929</td> <td> 0.353</td> <td>   -0.702</td> <td>    0.251</td>\n",
       "</tr>\n",
       "<tr>\n",
       "  <th>Temp_C</th>           <td>   -0.3339</td> <td>    0.505</td> <td>   -0.661</td> <td> 0.509</td> <td>   -1.324</td> <td>    0.656</td>\n",
       "</tr>\n",
       "<tr>\n",
       "  <th>Breaker_Height_m</th> <td>    3.7845</td> <td>    1.999</td> <td>    1.893</td> <td> 0.058</td> <td>   -0.133</td> <td>    7.702</td>\n",
       "</tr>\n",
       "<tr>\n",
       "  <th>Breaker_Period_s</th> <td>   -0.0019</td> <td>    0.250</td> <td>   -0.008</td> <td> 0.994</td> <td>   -0.493</td> <td>    0.489</td>\n",
       "</tr>\n",
       "</table>"
      ],
      "text/plain": [
       "<class 'statsmodels.iolib.summary.Summary'>\n",
       "\"\"\"\n",
       "                     ZeroInflatedPoisson Regression Results                    \n",
       "===============================================================================\n",
       "Dep. Variable:                    MaxN   No. Observations:                  157\n",
       "Model:             ZeroInflatedPoisson   Df Residuals:                      149\n",
       "Method:                            MLE   Df Model:                            7\n",
       "Date:                 Mon, 24 May 2021   Pseudo R-squ.:                  0.3525\n",
       "Time:                         22:57:03   Log-Likelihood:                -10.307\n",
       "converged:                       False   LL-Null:                       -15.918\n",
       "Covariance Type:             nonrobust   LLR p-value:                    0.1292\n",
       "====================================================================================\n",
       "                       coef    std err          z      P>|z|      [0.025      0.975]\n",
       "------------------------------------------------------------------------------------\n",
       "inflate_const       -4.9304      4.481     -1.100      0.271     -13.713       3.852\n",
       "Intercept           -3.9485      9.419     -0.419      0.675     -22.409      14.512\n",
       "Tide_height_ft      -2.7404      1.102     -2.486      0.013      -4.901      -0.580\n",
       "Wind_Average_mph     0.0873      0.226      0.387      0.699      -0.355       0.530\n",
       "Depth_ft             0.8710      0.595      1.463      0.143      -0.296       2.038\n",
       "Visibility_ft       -0.2257      0.243     -0.929      0.353      -0.702       0.251\n",
       "Temp_C              -0.3339      0.505     -0.661      0.509      -1.324       0.656\n",
       "Breaker_Height_m     3.7845      1.999      1.893      0.058      -0.133       7.702\n",
       "Breaker_Period_s    -0.0019      0.250     -0.008      0.994      -0.493       0.489\n",
       "====================================================================================\n",
       "\"\"\""
      ]
     },
     "execution_count": 21,
     "metadata": {},
     "output_type": "execute_result"
    }
   ],
   "source": [
    "#create variable for L. armatus (Staghorn sculpin)\n",
    "species = 'L. armatus'\n",
    "\n",
    "print(\"RSME =\", rsme[species])\n",
    "summary[species]"
   ]
  },
  {
   "cell_type": "markdown",
   "metadata": {},
   "source": [
    "#### *O. elongatus*"
   ]
  },
  {
   "cell_type": "code",
   "execution_count": 22,
   "metadata": {},
   "outputs": [
    {
     "name": "stdout",
     "output_type": "stream",
     "text": [
      "RSME = 0.16666666666666666\n"
     ]
    },
    {
     "data": {
      "text/html": [
       "<table class=\"simpletable\">\n",
       "<caption>ZeroInflatedPoisson Regression Results</caption>\n",
       "<tr>\n",
       "  <th>Dep. Variable:</th>          <td>MaxN</td>         <th>  No. Observations:  </th>  <td>   157</td> \n",
       "</tr>\n",
       "<tr>\n",
       "  <th>Model:</th>           <td>ZeroInflatedPoisson</td> <th>  Df Residuals:      </th>  <td>   149</td> \n",
       "</tr>\n",
       "<tr>\n",
       "  <th>Method:</th>                  <td>MLE</td>         <th>  Df Model:          </th>  <td>     7</td> \n",
       "</tr>\n",
       "<tr>\n",
       "  <th>Date:</th>             <td>Mon, 24 May 2021</td>   <th>  Pseudo R-squ.:     </th>  <td>0.07675</td>\n",
       "</tr>\n",
       "<tr>\n",
       "  <th>Time:</th>                 <td>22:57:03</td>       <th>  Log-Likelihood:    </th> <td> -14.759</td>\n",
       "</tr>\n",
       "<tr>\n",
       "  <th>converged:</th>              <td>False</td>        <th>  LL-Null:           </th> <td> -15.986</td>\n",
       "</tr>\n",
       "<tr>\n",
       "  <th>Covariance Type:</th>      <td>nonrobust</td>      <th>  LLR p-value:       </th>  <td>0.9305</td> \n",
       "</tr>\n",
       "</table>\n",
       "<table class=\"simpletable\">\n",
       "<tr>\n",
       "          <td></td>            <th>coef</th>     <th>std err</th>      <th>z</th>      <th>P>|z|</th>  <th>[0.025</th>    <th>0.975]</th>  \n",
       "</tr>\n",
       "<tr>\n",
       "  <th>inflate_const</th>    <td>   -7.3816</td> <td>   16.718</td> <td>   -0.442</td> <td> 0.659</td> <td>  -40.148</td> <td>   25.385</td>\n",
       "</tr>\n",
       "<tr>\n",
       "  <th>Intercept</th>        <td>   -3.5811</td> <td>    5.757</td> <td>   -0.622</td> <td> 0.534</td> <td>  -14.864</td> <td>    7.702</td>\n",
       "</tr>\n",
       "<tr>\n",
       "  <th>Tide_height_ft</th>   <td>    0.3858</td> <td>    0.712</td> <td>    0.542</td> <td> 0.588</td> <td>   -1.010</td> <td>    1.781</td>\n",
       "</tr>\n",
       "<tr>\n",
       "  <th>Wind_Average_mph</th> <td>   -0.1000</td> <td>    0.231</td> <td>   -0.432</td> <td> 0.666</td> <td>   -0.554</td> <td>    0.354</td>\n",
       "</tr>\n",
       "<tr>\n",
       "  <th>Depth_ft</th>         <td>   -0.1861</td> <td>    0.502</td> <td>   -0.370</td> <td> 0.711</td> <td>   -1.171</td> <td>    0.798</td>\n",
       "</tr>\n",
       "<tr>\n",
       "  <th>Visibility_ft</th>    <td>   -0.1006</td> <td>    0.242</td> <td>   -0.416</td> <td> 0.677</td> <td>   -0.574</td> <td>    0.373</td>\n",
       "</tr>\n",
       "<tr>\n",
       "  <th>Temp_C</th>           <td>    0.1726</td> <td>    0.318</td> <td>    0.543</td> <td> 0.587</td> <td>   -0.451</td> <td>    0.796</td>\n",
       "</tr>\n",
       "<tr>\n",
       "  <th>Breaker_Height_m</th> <td>   -0.8989</td> <td>    1.556</td> <td>   -0.578</td> <td> 0.563</td> <td>   -3.948</td> <td>    2.150</td>\n",
       "</tr>\n",
       "<tr>\n",
       "  <th>Breaker_Period_s</th> <td>   -0.1320</td> <td>    0.202</td> <td>   -0.655</td> <td> 0.513</td> <td>   -0.527</td> <td>    0.263</td>\n",
       "</tr>\n",
       "</table>"
      ],
      "text/plain": [
       "<class 'statsmodels.iolib.summary.Summary'>\n",
       "\"\"\"\n",
       "                     ZeroInflatedPoisson Regression Results                    \n",
       "===============================================================================\n",
       "Dep. Variable:                    MaxN   No. Observations:                  157\n",
       "Model:             ZeroInflatedPoisson   Df Residuals:                      149\n",
       "Method:                            MLE   Df Model:                            7\n",
       "Date:                 Mon, 24 May 2021   Pseudo R-squ.:                 0.07675\n",
       "Time:                         22:57:03   Log-Likelihood:                -14.759\n",
       "converged:                       False   LL-Null:                       -15.986\n",
       "Covariance Type:             nonrobust   LLR p-value:                    0.9305\n",
       "====================================================================================\n",
       "                       coef    std err          z      P>|z|      [0.025      0.975]\n",
       "------------------------------------------------------------------------------------\n",
       "inflate_const       -7.3816     16.718     -0.442      0.659     -40.148      25.385\n",
       "Intercept           -3.5811      5.757     -0.622      0.534     -14.864       7.702\n",
       "Tide_height_ft       0.3858      0.712      0.542      0.588      -1.010       1.781\n",
       "Wind_Average_mph    -0.1000      0.231     -0.432      0.666      -0.554       0.354\n",
       "Depth_ft            -0.1861      0.502     -0.370      0.711      -1.171       0.798\n",
       "Visibility_ft       -0.1006      0.242     -0.416      0.677      -0.574       0.373\n",
       "Temp_C               0.1726      0.318      0.543      0.587      -0.451       0.796\n",
       "Breaker_Height_m    -0.8989      1.556     -0.578      0.563      -3.948       2.150\n",
       "Breaker_Period_s    -0.1320      0.202     -0.655      0.513      -0.527       0.263\n",
       "====================================================================================\n",
       "\"\"\""
      ]
     },
     "execution_count": 22,
     "metadata": {},
     "output_type": "execute_result"
    }
   ],
   "source": [
    "#create variable for O. elongatus (Lingcod)\n",
    "species = 'O. elongatus'\n",
    "\n",
    "print(\"RSME =\", rsme[species])\n",
    "summary[species]"
   ]
  },
  {
   "cell_type": "markdown",
   "metadata": {},
   "source": [
    "#### *P. triserata*"
   ]
  },
  {
   "cell_type": "code",
   "execution_count": 23,
   "metadata": {},
   "outputs": [
    {
     "name": "stdout",
     "output_type": "stream",
     "text": [
      "RSME = 0.26352313834736496\n"
     ]
    },
    {
     "data": {
      "text/html": [
       "<table class=\"simpletable\">\n",
       "<caption>ZeroInflatedPoisson Regression Results</caption>\n",
       "<tr>\n",
       "  <th>Dep. Variable:</th>          <td>MaxN</td>         <th>  No. Observations:  </th>  <td>   157</td> \n",
       "</tr>\n",
       "<tr>\n",
       "  <th>Model:</th>           <td>ZeroInflatedPoisson</td> <th>  Df Residuals:      </th>  <td>   149</td> \n",
       "</tr>\n",
       "<tr>\n",
       "  <th>Method:</th>                  <td>MLE</td>         <th>  Df Model:          </th>  <td>     7</td> \n",
       "</tr>\n",
       "<tr>\n",
       "  <th>Date:</th>             <td>Mon, 24 May 2021</td>   <th>  Pseudo R-squ.:     </th>  <td>0.3889</td> \n",
       "</tr>\n",
       "<tr>\n",
       "  <th>Time:</th>                 <td>22:57:03</td>       <th>  Log-Likelihood:    </th> <td> -6.0861</td>\n",
       "</tr>\n",
       "<tr>\n",
       "  <th>converged:</th>              <td>False</td>        <th>  LL-Null:           </th> <td> -9.9596</td>\n",
       "</tr>\n",
       "<tr>\n",
       "  <th>Covariance Type:</th>      <td>nonrobust</td>      <th>  LLR p-value:       </th>  <td>0.3554</td> \n",
       "</tr>\n",
       "</table>\n",
       "<table class=\"simpletable\">\n",
       "<tr>\n",
       "          <td></td>            <th>coef</th>     <th>std err</th>      <th>z</th>      <th>P>|z|</th>  <th>[0.025</th>    <th>0.975]</th>  \n",
       "</tr>\n",
       "<tr>\n",
       "  <th>inflate_const</th>    <td>   -5.7675</td> <td>    6.767</td> <td>   -0.852</td> <td> 0.394</td> <td>  -19.031</td> <td>    7.496</td>\n",
       "</tr>\n",
       "<tr>\n",
       "  <th>Intercept</th>        <td>   -4.2991</td> <td>   11.766</td> <td>   -0.365</td> <td> 0.715</td> <td>  -27.360</td> <td>   18.762</td>\n",
       "</tr>\n",
       "<tr>\n",
       "  <th>Tide_height_ft</th>   <td>    1.1135</td> <td>    1.473</td> <td>    0.756</td> <td> 0.450</td> <td>   -1.773</td> <td>    4.000</td>\n",
       "</tr>\n",
       "<tr>\n",
       "  <th>Wind_Average_mph</th> <td>    0.0834</td> <td>    0.558</td> <td>    0.149</td> <td> 0.881</td> <td>   -1.011</td> <td>    1.178</td>\n",
       "</tr>\n",
       "<tr>\n",
       "  <th>Depth_ft</th>         <td>   -0.2602</td> <td>    0.931</td> <td>   -0.279</td> <td> 0.780</td> <td>   -2.086</td> <td>    1.565</td>\n",
       "</tr>\n",
       "<tr>\n",
       "  <th>Visibility_ft</th>    <td>   -0.9574</td> <td>    0.876</td> <td>   -1.093</td> <td> 0.274</td> <td>   -2.674</td> <td>    0.759</td>\n",
       "</tr>\n",
       "<tr>\n",
       "  <th>Temp_C</th>           <td>    0.4594</td> <td>    0.777</td> <td>    0.592</td> <td> 0.554</td> <td>   -1.063</td> <td>    1.981</td>\n",
       "</tr>\n",
       "<tr>\n",
       "  <th>Breaker_Height_m</th> <td>   -0.4819</td> <td>    2.746</td> <td>   -0.175</td> <td> 0.861</td> <td>   -5.864</td> <td>    4.900</td>\n",
       "</tr>\n",
       "<tr>\n",
       "  <th>Breaker_Period_s</th> <td>   -0.8609</td> <td>    0.816</td> <td>   -1.055</td> <td> 0.291</td> <td>   -2.459</td> <td>    0.738</td>\n",
       "</tr>\n",
       "</table>"
      ],
      "text/plain": [
       "<class 'statsmodels.iolib.summary.Summary'>\n",
       "\"\"\"\n",
       "                     ZeroInflatedPoisson Regression Results                    \n",
       "===============================================================================\n",
       "Dep. Variable:                    MaxN   No. Observations:                  157\n",
       "Model:             ZeroInflatedPoisson   Df Residuals:                      149\n",
       "Method:                            MLE   Df Model:                            7\n",
       "Date:                 Mon, 24 May 2021   Pseudo R-squ.:                  0.3889\n",
       "Time:                         22:57:03   Log-Likelihood:                -6.0861\n",
       "converged:                       False   LL-Null:                       -9.9596\n",
       "Covariance Type:             nonrobust   LLR p-value:                    0.3554\n",
       "====================================================================================\n",
       "                       coef    std err          z      P>|z|      [0.025      0.975]\n",
       "------------------------------------------------------------------------------------\n",
       "inflate_const       -5.7675      6.767     -0.852      0.394     -19.031       7.496\n",
       "Intercept           -4.2991     11.766     -0.365      0.715     -27.360      18.762\n",
       "Tide_height_ft       1.1135      1.473      0.756      0.450      -1.773       4.000\n",
       "Wind_Average_mph     0.0834      0.558      0.149      0.881      -1.011       1.178\n",
       "Depth_ft            -0.2602      0.931     -0.279      0.780      -2.086       1.565\n",
       "Visibility_ft       -0.9574      0.876     -1.093      0.274      -2.674       0.759\n",
       "Temp_C               0.4594      0.777      0.592      0.554      -1.063       1.981\n",
       "Breaker_Height_m    -0.4819      2.746     -0.175      0.861      -5.864       4.900\n",
       "Breaker_Period_s    -0.8609      0.816     -1.055      0.291      -2.459       0.738\n",
       "====================================================================================\n",
       "\"\"\""
      ]
     },
     "execution_count": 23,
     "metadata": {},
     "output_type": "execute_result"
    }
   ],
   "source": [
    "#create variable for P. triserata (Thornyback ray)\n",
    "species = 'P. triserata'\n",
    "\n",
    "print(\"RSME =\", rsme[species])\n",
    "summary[species]"
   ]
  },
  {
   "cell_type": "markdown",
   "metadata": {},
   "source": [
    "#### *P. vitulina*"
   ]
  },
  {
   "cell_type": "code",
   "execution_count": 24,
   "metadata": {},
   "outputs": [
    {
     "name": "stdout",
     "output_type": "stream",
     "text": [
      "RSME = 0.18633899812498247\n"
     ]
    },
    {
     "data": {
      "text/html": [
       "<table class=\"simpletable\">\n",
       "<caption>ZeroInflatedPoisson Regression Results</caption>\n",
       "<tr>\n",
       "  <th>Dep. Variable:</th>          <td>MaxN</td>         <th>  No. Observations:  </th>  <td>   157</td> \n",
       "</tr>\n",
       "<tr>\n",
       "  <th>Model:</th>           <td>ZeroInflatedPoisson</td> <th>  Df Residuals:      </th>  <td>   149</td> \n",
       "</tr>\n",
       "<tr>\n",
       "  <th>Method:</th>                  <td>MLE</td>         <th>  Df Model:          </th>  <td>     7</td> \n",
       "</tr>\n",
       "<tr>\n",
       "  <th>Date:</th>             <td>Mon, 24 May 2021</td>   <th>  Pseudo R-squ.:     </th>  <td>0.1499</td> \n",
       "</tr>\n",
       "<tr>\n",
       "  <th>Time:</th>                 <td>22:57:02</td>       <th>  Log-Likelihood:    </th> <td> -4.7486</td>\n",
       "</tr>\n",
       "<tr>\n",
       "  <th>converged:</th>              <td>False</td>        <th>  LL-Null:           </th> <td> -5.5857</td>\n",
       "</tr>\n",
       "<tr>\n",
       "  <th>Covariance Type:</th>      <td>nonrobust</td>      <th>  LLR p-value:       </th>  <td>0.9757</td> \n",
       "</tr>\n",
       "</table>\n",
       "<table class=\"simpletable\">\n",
       "<tr>\n",
       "          <td></td>            <th>coef</th>     <th>std err</th>      <th>z</th>      <th>P>|z|</th>  <th>[0.025</th>    <th>0.975]</th>  \n",
       "</tr>\n",
       "<tr>\n",
       "  <th>inflate_const</th>    <td>   -4.5121</td> <td>    3.587</td> <td>   -1.258</td> <td> 0.208</td> <td>  -11.542</td> <td>    2.518</td>\n",
       "</tr>\n",
       "<tr>\n",
       "  <th>Intercept</th>        <td>   -5.0195</td> <td>   20.170</td> <td>   -0.249</td> <td> 0.803</td> <td>  -44.551</td> <td>   34.512</td>\n",
       "</tr>\n",
       "<tr>\n",
       "  <th>Tide_height_ft</th>   <td>   -1.4816</td> <td>    2.142</td> <td>   -0.692</td> <td> 0.489</td> <td>   -5.680</td> <td>    2.717</td>\n",
       "</tr>\n",
       "<tr>\n",
       "  <th>Wind_Average_mph</th> <td>   -0.7673</td> <td>    1.452</td> <td>   -0.528</td> <td> 0.597</td> <td>   -3.613</td> <td>    2.078</td>\n",
       "</tr>\n",
       "<tr>\n",
       "  <th>Depth_ft</th>         <td>   -0.6191</td> <td>    1.085</td> <td>   -0.570</td> <td> 0.568</td> <td>   -2.746</td> <td>    1.508</td>\n",
       "</tr>\n",
       "<tr>\n",
       "  <th>Visibility_ft</th>    <td>    0.2470</td> <td>    0.433</td> <td>    0.570</td> <td> 0.569</td> <td>   -0.603</td> <td>    1.097</td>\n",
       "</tr>\n",
       "<tr>\n",
       "  <th>Temp_C</th>           <td>    0.2604</td> <td>    1.148</td> <td>    0.227</td> <td> 0.821</td> <td>   -1.989</td> <td>    2.510</td>\n",
       "</tr>\n",
       "<tr>\n",
       "  <th>Breaker_Height_m</th> <td>    0.1209</td> <td>    3.887</td> <td>    0.031</td> <td> 0.975</td> <td>   -7.498</td> <td>    7.740</td>\n",
       "</tr>\n",
       "<tr>\n",
       "  <th>Breaker_Period_s</th> <td>    0.2823</td> <td>    0.501</td> <td>    0.563</td> <td> 0.573</td> <td>   -0.700</td> <td>    1.264</td>\n",
       "</tr>\n",
       "</table>"
      ],
      "text/plain": [
       "<class 'statsmodels.iolib.summary.Summary'>\n",
       "\"\"\"\n",
       "                     ZeroInflatedPoisson Regression Results                    \n",
       "===============================================================================\n",
       "Dep. Variable:                    MaxN   No. Observations:                  157\n",
       "Model:             ZeroInflatedPoisson   Df Residuals:                      149\n",
       "Method:                            MLE   Df Model:                            7\n",
       "Date:                 Mon, 24 May 2021   Pseudo R-squ.:                  0.1499\n",
       "Time:                         22:57:02   Log-Likelihood:                -4.7486\n",
       "converged:                       False   LL-Null:                       -5.5857\n",
       "Covariance Type:             nonrobust   LLR p-value:                    0.9757\n",
       "====================================================================================\n",
       "                       coef    std err          z      P>|z|      [0.025      0.975]\n",
       "------------------------------------------------------------------------------------\n",
       "inflate_const       -4.5121      3.587     -1.258      0.208     -11.542       2.518\n",
       "Intercept           -5.0195     20.170     -0.249      0.803     -44.551      34.512\n",
       "Tide_height_ft      -1.4816      2.142     -0.692      0.489      -5.680       2.717\n",
       "Wind_Average_mph    -0.7673      1.452     -0.528      0.597      -3.613       2.078\n",
       "Depth_ft            -0.6191      1.085     -0.570      0.568      -2.746       1.508\n",
       "Visibility_ft        0.2470      0.433      0.570      0.569      -0.603       1.097\n",
       "Temp_C               0.2604      1.148      0.227      0.821      -1.989       2.510\n",
       "Breaker_Height_m     0.1209      3.887      0.031      0.975      -7.498       7.740\n",
       "Breaker_Period_s     0.2823      0.501      0.563      0.573      -0.700       1.264\n",
       "====================================================================================\n",
       "\"\"\""
      ]
     },
     "execution_count": 24,
     "metadata": {},
     "output_type": "execute_result"
    }
   ],
   "source": [
    "#create variable for P. vitulina (harbor seal)\n",
    "species = 'P. vitulina'\n",
    "\n",
    "print(\"RSME =\", rsme[species])\n",
    "summary[species]"
   ]
  },
  {
   "cell_type": "markdown",
   "metadata": {},
   "source": [
    "### Results\n",
    "\n",
    "Overall a model was able to be fit to 15 of the 17 species. The full model, using the data as for the inflation only worked for three species: *A. argenteus*, *E. analoga*, *H. argenteum*. These three species also had most environmental parameters being significant. For *A. argenteus*, the tide height, wind speed, visibility, temperature, and wave period had significant effects from the model. For *E analoga*, tide height, depth, visibility, temperature, and wave period had a significant effect. For *H ellipticum*, tide height, depth, temperature, and breaker height and period were significant. The root mean squared errors varied from 0 to 258. \n",
    "\n",
    "Of the parameters chosen in this model, all were significant for at least two separate species. Tide height was significant for two of the surfperch species and the sculpin species. Wind speed was significant for two surfperch species and the flatfish species. Depth was significant for one surfperch species and the mole crab. Visibility and temperature were significant for one surfperch species and the mole crab. Wave height was significant for one cancer crab species and the flatfish species. And wave period was significant with three surfperch species, a cancer crab species, and the mole crab. "
   ]
  },
  {
   "cell_type": "markdown",
   "metadata": {},
   "source": [
    "### Conclusion\n",
    "\n",
    "The models yielded some interesting results. It seems that all the surfperch species aren't impacted by the same parameters, which you would expect for the same taxonomic family. They do occupy slightly different ecosystem niches in food selection, but all are found in the surf. Of the species the model wasn't able to be calculated for, two of the species were surfperch, one was a cancer crab, and the other was a snail species. These species are likely true residents of the surf zone and can be found in the surf regardless of any measurable conditions. Or there are other parameters which determine their presence that weren't tested in this model. \n",
    "\n",
    "For *A. argenteus*, the species showed a negative trend with tide height (as the tide height increases, there are fewer individuals observed), it would be expected the opposite would be true but this could be that more of the individuals are using the shallow water as shelter from predators, or more likely taken with the negative trend in visibility, the species could be predators, hunting in low tide and low visibility which would allow them to find and capture prey more easily. They exhibited a positive trend with temperature, so its likely the species might migrate to warmer, shallower waters. In addition to the shallow, warm water, the species had a positive trend with wave period and a negative trend with wind speed, so they prefer less windy, long period swell beaches. \n",
    "\n",
    "For *E. analoga*, the species had significant trends with tide height, depth, visibility, temperature, and wave period. There was a positive trend with tide height, depth, and visibility with a negative trend with temperature and breaker period. The species of mole crab is predominately confined to the swash zone, area of the beach where waves lap, but can be found to deeper depths (as observed on the BRUVS). The species prefers colder water, likely due to the additional nutrients and plankton associated with it. \n",
    "\n",
    "Based on the assumptions of the Poisson model that the mean is similar to the variance; this was not the case for all species. It is therefore more likely that a zero-inflated negative binomial model would've been more accurate for some of the species where there was a great difference between the mean and deviance. The root mean squared errors varied wildly and would be useful to compare with a zero-inflated negative binomial model for those species that had a greatly different mean and variance."
   ]
  },
  {
   "cell_type": "markdown",
   "metadata": {},
   "source": [
    "**Note on interpretation, seed was set in zero-inflated poisson model function after model was run and results and conclusion interpreted. Future results may differ.**"
   ]
  },
  {
   "cell_type": "markdown",
   "metadata": {},
   "source": [
    "### Ideas for future work\n",
    "\n",
    "The present analyses represent only 234 of the total 551 hours of BRUVS video recorded for the surf zone project. Additionally these results are only for the summer months (July, August, and September), so there isn't a great deal of varability between each sampling for these environmental parameters. The remainder of the video is taken throughout the year, when there are much greater difference in the oceanic conditions and will likely yield different results than represented here. As more video is analyzed, more individuals of these species and potentially other species will be recorded, so this could provide additional samples to analyze and species to draw trends for. \n",
    "\n",
    "Three of the species models weren't able to be run for this analyses. This is likely due to very poor model fit, but further investigation should be run to determine why these models weren't successful. The problem might be solved with the additional video analyzed are more of these species are observed and in different conditions, or the parameters presented here might not be the drivers for these species. Either way further investigation is necessary. \n",
    "\n",
    "Additional parameters should be recorded and added to the model. Salinity and wind direction could both be incredibly influential oceanic conditions that might influence surf zone assemblage. Salinity was recorded at some sites but was missing at most to the parameter was removed from the models. Wind direction can be used to determine upwelling favorable conditions, which can be hugely impactful on Central California species. The Iribarren number is useful in comparing the surface waves of different beaches and should also be included in future analyses as the types of beaches varied widely in this study and this could be a factor influencing the observed assemblage. The wrack in the water observed by the BRUV is also being recorded and analyzed separately. The results from this analysis could be added to these models and might show some significant results.\n"
   ]
  },
  {
   "cell_type": "markdown",
   "metadata": {},
   "source": [
    "### References"
   ]
  },
  {
   "cell_type": "markdown",
   "metadata": {},
   "source": [
    "Andrews HL (1945) The kelp beds of the Monterey region. Eco 26:24-37\n",
    "\n",
    "Bennett BA, Attwood CG (1991) Evidence for recovery of a surf-zone fish assemblage following the establishment of a marine reserve on the southern coast of South Africa. Mar Ecol Prog Ser Oldendorf 75:173-181\n",
    "\n",
    "Beyst B, Buysse D, Dewicke A, Mees J (2001) Surf zone hyperbenthos of Belgian sandy beaches: seasonal patterns. Estuar Coast Shelf Sci 53:877-896\n",
    "\n",
    "Dugan JE, Defeo O, Jaramillo E, Jones AR, Lastra M, Nel R, Peterson CH, Scapini F, Schlacher T, Schoeman DS (2010) Give beach ecosystems their day in the sun. Sci 329:1146-1148\n",
    "\n",
    "Dugan JE, Hubbard DM, McCrary MD, Pierson MO (2003) The response of macrofauna communities and shorebirds to macrophyte wrack subsidies on exposed sandy beaches of southern California. Estuar Coast Shelf Sci 58:25-40\n",
    "\n",
    "Henderson CJ, Gilby BL, Schlacher TA, Connolly RM, Sheaves M, Maxwell PS, Flint N, Borland HP, Martin TS, Olds AD (2019) Low redundancy and complementarity shape ecosystem functioning in a low‐diversity ecosystem. J Anim Ecol\n",
    "\n",
    "Krumhansl KA, Scheibling RE (2012) Production and fate of kelp detritus. Mar Ecol Prog Ser 467:281-302\n",
    "Layman CA (2000) Fish assemblage structure of the shallow ocean surf-zone on the eastern shore of Virginia Barrier Islands. Estuar Coast Shelf Sci 51:201-213\n",
    "\n",
    "Marin Jarrin JR, Teel DJ, Miller JA (2016) Stock-specific movement and distribution of juvenile chinook salmon, Oncorhynchus tshawytscha, in sandy beach surf zones of Oregon and Washington, USA. Estuaries and Coasts 39:759-766\n",
    "\n",
    "McLachlan A, Brown A (2006) The Ecology of Sandy Shores, 2nd edn. Elsevier-Academic Press, Burlington, MA\n",
    "\n",
    "Murphy HM, Jenkins GP (2010) Observational methods used in marine spatial monitoring of fishes and associated habitats: a review. Mar Freshw Res 61:236-252\n",
    "\n",
    "Nakane Y, Suda Y, Hayakawa Y (2009) Predation pressure for a juvenile fish on an exposed sandy beach: comparison among beach types using tethering experiments. La mer 46:109-115\n",
    "\n",
    "Nanami A, Endo T (2007) Seasonal dynamics of fish assemblage structures in a surf zone on an exposed sandy beach in Japan. Ichthyol Res 54:277-286\n",
    "\n",
    "Olds AD, Vargas‐Fonseca E, Connolly RM, Gilby BL, Huijbers CM, Hyndes GA, Layman CA, Whitfield AK, Schlacher TA (2018) The ecology of fish in the surf zones of ocean beaches: A global review. Fish Fish 19:78-89\n",
    "\n",
    "Ramp SR, Lermusiaux PF, Shulman I, Chao Y, Wolf RE, Bahr FL (2011) Oceanographic and atmospheric conditions on the continental shelf north of the Monterey Bay during August 2006. Dynamics of Atmospheres and Oceans 52:192-223\n",
    "\n",
    "Ross ST, McMichael Jr RH, Ruple DL (1987) Seasonal and diel variation in the standing crop of fishes and macroinvertebrates from a Gulf of Mexico surf zone. Estuar Coast Shelf Sci 25:391-412\n",
    "\n",
    "Ross SW, Lancaster JE (2002) Movements and site fidelity of two juvenile fish species using surf zone nursery habitats along the southeastern North Carolina coast. Environ Biol Fishes 63:161-172\n",
    "\n",
    "Thompson SA, Sydeman WJ, Santora JA, Black BA, Suryan RM, Calambokidis J, Peterson WT, Bograd SJ (2012) Linking predators to seasonality of upwelling: using food web indicators and path analysis to infer trophic connections. Prog Oceanogr 101:106-120\n",
    "\n",
    "Vargas‐Fonseca E, Olds AD, Gilby BL, Connolly RM, Schoeman DS, Huijbers CM, Hyndes GA, Schlacher TA (2016) Combined effects of urbanization and connectivity on iconic coastal fishes. Divers Distrib 22:1328-1341\n"
   ]
  },
  {
   "cell_type": "code",
   "execution_count": null,
   "metadata": {},
   "outputs": [],
   "source": []
  }
 ],
 "metadata": {
  "kernelspec": {
   "display_name": "Python 3",
   "language": "python",
   "name": "python3"
  },
  "language_info": {
   "codemirror_mode": {
    "name": "ipython",
    "version": 3
   },
   "file_extension": ".py",
   "mimetype": "text/x-python",
   "name": "python",
   "nbconvert_exporter": "python",
   "pygments_lexer": "ipython3",
   "version": "3.8.5"
  }
 },
 "nbformat": 4,
 "nbformat_minor": 4
}
